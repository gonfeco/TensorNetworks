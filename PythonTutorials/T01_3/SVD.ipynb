{
 "cells": [
  {
   "cell_type": "code",
   "execution_count": null,
   "id": "fd85b519",
   "metadata": {},
   "outputs": [],
   "source": [
    "import numpy as np\n",
    "from  matplotlib import pyplot as plt"
   ]
  },
  {
   "cell_type": "code",
   "execution_count": null,
   "id": "61330bb6",
   "metadata": {},
   "outputs": [],
   "source": [
    "img = plt.imread(\"./Gwanghwamun.jpg\")"
   ]
  },
  {
   "cell_type": "code",
   "execution_count": null,
   "id": "85be9ec6",
   "metadata": {},
   "outputs": [],
   "source": [
    "plt.imshow(img)"
   ]
  },
  {
   "cell_type": "code",
   "execution_count": null,
   "id": "1fb3ebb6",
   "metadata": {},
   "outputs": [],
   "source": [
    "m = np.sum(img, axis=2)"
   ]
  },
  {
   "cell_type": "code",
   "execution_count": null,
   "id": "fd165644",
   "metadata": {},
   "outputs": [],
   "source": [
    "plt.imshow(m)"
   ]
  },
  {
   "cell_type": "code",
   "execution_count": null,
   "id": "c2fba15e",
   "metadata": {},
   "outputs": [],
   "source": [
    "U,S,V = np.linalg.svd(m)"
   ]
  },
  {
   "cell_type": "code",
   "execution_count": null,
   "id": "6a27aa11",
   "metadata": {},
   "outputs": [],
   "source": [
    "S"
   ]
  },
  {
   "cell_type": "code",
   "execution_count": null,
   "id": "0ba4692b",
   "metadata": {},
   "outputs": [],
   "source": [
    "plt.plot(S, 'o-')\n",
    "plt.yscale('log')"
   ]
  },
  {
   "cell_type": "code",
   "execution_count": null,
   "id": "43ffddb8",
   "metadata": {},
   "outputs": [],
   "source": []
  }
 ],
 "metadata": {
  "kernelspec": {
   "display_name": "Python [conda env:myqlm]",
   "language": "python",
   "name": "conda-env-myqlm-py"
  },
  "language_info": {
   "codemirror_mode": {
    "name": "ipython",
    "version": 3
   },
   "file_extension": ".py",
   "mimetype": "text/x-python",
   "name": "python",
   "nbconvert_exporter": "python",
   "pygments_lexer": "ipython3",
   "version": "3.9.11"
  }
 },
 "nbformat": 4,
 "nbformat_minor": 5
}
