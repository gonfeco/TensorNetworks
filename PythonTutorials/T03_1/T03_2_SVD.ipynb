{
 "cells": [
  {
   "cell_type": "markdown",
   "id": "5e3a6a84",
   "metadata": {},
   "source": [
    "# SVD MPS Decomposition"
   ]
  },
  {
   "cell_type": "code",
   "execution_count": null,
   "id": "9705c7e7",
   "metadata": {},
   "outputs": [],
   "source": [
    "import numpy as np"
   ]
  },
  {
   "cell_type": "code",
   "execution_count": null,
   "id": "8188d3f7",
   "metadata": {},
   "outputs": [],
   "source": [
    "from sympy import Matrix, init_printing\n",
    "init_printing()"
   ]
  },
  {
   "cell_type": "code",
   "execution_count": null,
   "id": "956dda4d",
   "metadata": {},
   "outputs": [],
   "source": [
    "import sys\n",
    "sys.path.append('../tensornetworks/')\n",
    "import tensornetworks as tn"
   ]
  },
  {
   "cell_type": "code",
   "execution_count": null,
   "id": "60acf6a9",
   "metadata": {},
   "outputs": [],
   "source": [
    "import logging\n",
    "logging.basicConfig(\n",
    "    format='%(asctime)s-%(levelname)s: %(message)s',\n",
    "    datefmt='%m/%d/%Y %I:%M:%S %p',\n",
    "    level=logging.INFO,\n",
    "    #level=logging.DEBUG,\n",
    ")"
   ]
  },
  {
   "cell_type": "markdown",
   "id": "1f6cd3c0",
   "metadata": {},
   "source": [
    "tensor_dim = [2, 3, 2, 3, 4] # local space dimensions\n",
    "T = np.random.random(tuple(tensor_dim)) # rank-5 tensor\n",
    "T = T / np.linalg.norm(T)"
   ]
  },
  {
   "cell_type": "markdown",
   "id": "6a6d58bd",
   "metadata": {},
   "source": [
    "**BE AWARE**\n",
    "El ordenamiento en numpy se hace siguiendo el estilo C mientras que en Matlab se sigue la ordenación Fortran. Así que para reproducir el codigo Matlab hay que explicitarlo!!"
   ]
  },
  {
   "cell_type": "code",
   "execution_count": null,
   "id": "d46c636b",
   "metadata": {},
   "outputs": [],
   "source": [
    "# Reproduce codigo Matlab\n",
    "tensor_dim = [2, 3, 2, 3, 4] # local space dimensions\n",
    "T = np.array([i for i in range(1, np.prod(tensor_dim)+1)])\n",
    "T = T.reshape(tensor_dim, order='F')\n",
    "T = T / np.linalg.norm(T)"
   ]
  },
  {
   "cell_type": "code",
   "execution_count": null,
   "id": "3fcd75bc",
   "metadata": {},
   "outputs": [],
   "source": [
    "mps_svd, d_alphas_svd, sizes_svd, entropy_svd= tn.mps_svd_lr_decompose(T)"
   ]
  },
  {
   "cell_type": "code",
   "execution_count": null,
   "id": "e1658d1c",
   "metadata": {},
   "outputs": [],
   "source": [
    "mps_qr, d_alphas_qr, size_qr= tn.mps_qr_lr_decompose(T)"
   ]
  },
  {
   "cell_type": "code",
   "execution_count": null,
   "id": "5f49c597",
   "metadata": {},
   "outputs": [],
   "source": [
    "recomp_svd_T = tn.compose_mps(mps_svd)\n",
    "np.isclose(T, recomp_svd_T.reshape(T.shape)).all()"
   ]
  },
  {
   "cell_type": "code",
   "execution_count": null,
   "id": "66da2dc8",
   "metadata": {},
   "outputs": [],
   "source": [
    "recomp_qr_T = tn.compose_mps(mps_qr)\n",
    "np.isclose(T, recomp_qr_T.reshape(T.shape)).all()"
   ]
  },
  {
   "cell_type": "code",
   "execution_count": null,
   "id": "e5ebbeff",
   "metadata": {},
   "outputs": [],
   "source": [
    "d_alphas_svd"
   ]
  },
  {
   "cell_type": "code",
   "execution_count": null,
   "id": "fe54ee23",
   "metadata": {},
   "outputs": [],
   "source": [
    "d_alphas_qr"
   ]
  },
  {
   "cell_type": "code",
   "execution_count": null,
   "id": "6dc1c058",
   "metadata": {},
   "outputs": [],
   "source": [
    "[i.shape for i in mps_svd]"
   ]
  },
  {
   "cell_type": "code",
   "execution_count": null,
   "id": "53211874",
   "metadata": {},
   "outputs": [],
   "source": [
    "[i.shape for i in mps_qr]"
   ]
  },
  {
   "cell_type": "code",
   "execution_count": null,
   "id": "f2476fa4",
   "metadata": {},
   "outputs": [],
   "source": [
    "size_qr"
   ]
  },
  {
   "cell_type": "code",
   "execution_count": null,
   "id": "d8620dfa",
   "metadata": {},
   "outputs": [],
   "source": [
    "sizes_svd"
   ]
  },
  {
   "cell_type": "code",
   "execution_count": null,
   "id": "0bfc0bd2",
   "metadata": {},
   "outputs": [],
   "source": [
    "4 + 36 + 144*2 +16"
   ]
  },
  {
   "cell_type": "code",
   "execution_count": null,
   "id": "abdcdae4",
   "metadata": {},
   "outputs": [],
   "source": [
    "entropy_svd"
   ]
  },
  {
   "cell_type": "code",
   "execution_count": null,
   "id": "23526ec4",
   "metadata": {},
   "outputs": [],
   "source": [
    "eps = np.finfo(float).eps"
   ]
  },
  {
   "attachments": {
    "image.png": {
     "image/png": "[encoded data removed]"
    }
   },
   "cell_type": "markdown",
   "id": "a571147a",
   "metadata": {},
   "source": [
    "## 2. Entanglement Entropy\n",
    "\n",
    "Para calcular la entropía de entrelazamiento (**entanglement entropy**) descomponemos la matriz usando SVD:\n",
    "\n",
    "![image.png](attachment:image.png)\n",
    "\n",
    "\n",
    "\n",
    "$$S(\\Sigma) = - \\sum_i |\\lambda_i| ^2 \\log_2|\\lambda_i|^2 $$\n",
    "\n",
    "\n",
    "Donde: \n",
    "$$\\Sigma_{i,j} = \\lambda_i \\delta_{ij}$$\n",
    "\n",
    "Así pues debemos primero generar la matriza y después hacer la svd."
   ]
  },
  {
   "cell_type": "code",
   "execution_count": null,
   "id": "051b83e6",
   "metadata": {},
   "outputs": [],
   "source": [
    "def entanglement_entropy(m_):\n",
    "    s_ = np.linalg.svd(m_, full_matrices=False, compute_uv=False)\n",
    "    return - s_**2 @ np.log2(s_**2)"
   ]
  },
  {
   "cell_type": "markdown",
   "id": "2a9a1d4d",
   "metadata": {},
   "source": [
    "### 2.1 A = {1,2}. B = {3, 4, 5}"
   ]
  },
  {
   "cell_type": "code",
   "execution_count": null,
   "id": "a1ebfa43",
   "metadata": {},
   "outputs": [],
   "source": [
    "import copy"
   ]
  },
  {
   "cell_type": "code",
   "execution_count": null,
   "id": "15c7961b",
   "metadata": {},
   "outputs": [],
   "source": [
    "M = copy.deepcopy(T)\n",
    "M = M.reshape(np.prod(M.shape[:2]), np.prod(M.shape[2:]))\n",
    "entanglement_entropy(M)"
   ]
  },
  {
   "cell_type": "markdown",
   "id": "49a2330b",
   "metadata": {},
   "source": [
    "### 2.2 A = {1,3}, B={2,4,5}"
   ]
  },
  {
   "cell_type": "code",
   "execution_count": null,
   "id": "c1719eac",
   "metadata": {},
   "outputs": [],
   "source": [
    "M = copy.deepcopy(T)\n",
    "M = M.transpose((0, 2, 1, 3, 4))\n",
    "M.shape\n",
    "M = M.reshape(np.prod(M.shape[:2]), np.prod(M.shape[2:])) \n",
    "entanglement_entropy(M)"
   ]
  },
  {
   "cell_type": "markdown",
   "id": "b1b47350",
   "metadata": {},
   "source": [
    "### 2.3 A = {1,5}, B={2,3,4}"
   ]
  },
  {
   "cell_type": "code",
   "execution_count": null,
   "id": "8e76fd65",
   "metadata": {},
   "outputs": [],
   "source": [
    "M = copy.deepcopy(T)\n",
    "M = M.transpose((0, 4, 1, 2, 3))\n",
    "M.shape\n",
    "M = M.reshape(np.prod(M.shape[:2]), np.prod(M.shape[2:])) \n",
    "entanglement_entropy(M)"
   ]
  },
  {
   "cell_type": "code",
   "execution_count": null,
   "id": "edfcb402",
   "metadata": {},
   "outputs": [],
   "source": []
  }
 ],
 "metadata": {
  "kernelspec": {
   "display_name": "Python [conda env:pytorch]",
   "language": "python",
   "name": "conda-env-pytorch-py"
  },
  "language_info": {
   "codemirror_mode": {
    "name": "ipython",
    "version": 3
   },
   "file_extension": ".py",
   "mimetype": "text/x-python",
   "name": "python",
   "nbconvert_exporter": "python",
   "pygments_lexer": "ipython3",
   "version": "3.11.4"
  }
 },
 "nbformat": 4,
 "nbformat_minor": 5
}
