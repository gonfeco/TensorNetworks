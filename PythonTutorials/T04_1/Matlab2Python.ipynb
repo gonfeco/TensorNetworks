{
 "cells": [
  {
   "cell_type": "code",
   "execution_count": 1,
   "id": "deb80c36",
   "metadata": {},
   "outputs": [],
   "source": [
    "import numpy as np"
   ]
  },
  {
   "cell_type": "code",
   "execution_count": null,
   "id": "d6e2a0f6",
   "metadata": {},
   "outputs": [],
   "source": [
    "[S,I] = getLocalSpace('Spin',1/2);\n",
    " "
   ]
  },
  {
   "cell_type": "code",
   "execution_count": 35,
   "id": "10636e3c",
   "metadata": {},
   "outputs": [],
   "source": [
    "def getLocalSpace(s):\n",
    "    s = round(2*s)/2\n",
    "    I = np.eye(int(2*s+1))\n",
    "    total = int(2 * s + 1)\n",
    "    Sp = [s-i for i in range(1, total)]\n",
    "    S_p = np.diag(np.sqrt([(s-sp_)*(s+sp_+1) for sp_ in Sp]), 1)\n",
    "    Sz = np.diag([1, -1])\n",
    "    S = np.array([S_p/np.sqrt(2), Sz, S_p.T/np.sqrt(2)])#, order = 'F')\n",
    "    return I, S"
   ]
  },
  {
   "cell_type": "code",
   "execution_count": null,
   "id": "9d51faac",
   "metadata": {},
   "outputs": [],
   "source": [
    "getLocalSpace(1/2)"
   ]
  },
  {
   "cell_type": "code",
   "execution_count": null,
   "id": "3d4492e5",
   "metadata": {},
   "outputs": [],
   "source": [
    "def get_identiy(B, idB, C, idC):\n",
    "    \n",
    "    \n",
    "\n",
    "\n",
    "\n",
    "\n",
    "C = varargin{1};\n",
    "idC = varargin{2}\n",
    "% A = getIdentity(B,idB,C,idC [,p])\n",
    "\n"
   ]
  }
 ],
 "metadata": {
  "kernelspec": {
   "display_name": "Python [conda env:pytorch]",
   "language": "python",
   "name": "conda-env-pytorch-py"
  },
  "language_info": {
   "codemirror_mode": {
    "name": "ipython",
    "version": 3
   },
   "file_extension": ".py",
   "mimetype": "text/x-python",
   "name": "python",
   "nbconvert_exporter": "python",
   "pygments_lexer": "ipython3",
   "version": "3.11.4"
  }
 },
 "nbformat": 4,
 "nbformat_minor": 5
}
