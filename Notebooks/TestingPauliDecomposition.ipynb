{
 "cells": [
  {
   "cell_type": "markdown",
   "id": "4ef2e479",
   "metadata": {},
   "source": [
    "# Testing Pauli Decomposition\n",
    "\n",
    "We have computed the Pauli Decomposition of the Parent Hamiltonian for the testing ansatz using **MPS**. Here we compare the Pauli decomposition from **MPS** methods adn state vector using **myQLM**"
   ]
  },
  {
   "cell_type": "code",
   "execution_count": 1,
   "id": "0acf8cf5",
   "metadata": {},
   "outputs": [],
   "source": [
    "import pandas as pd\n",
    "import numpy as np\n",
    "import os"
   ]
  },
  {
   "cell_type": "code",
   "execution_count": 2,
   "id": "08884cf4",
   "metadata": {},
   "outputs": [],
   "source": [
    "mps_folder = \"/home/cesga/gferro/Codigo/TensorNetworks/Zalo/\"\n",
    "myqlm_folder = \"/home/cesga/gferro/Codigo/WP3_Benchmark/tnbs/BTC_04_PH/configuration_files/\""
   ]
  },
  {
   "cell_type": "code",
   "execution_count": 3,
   "id": "a0438b83",
   "metadata": {},
   "outputs": [],
   "source": [
    "mps_list = list(filter(lambda x: x.find(\"pauli\")!=-1,os.listdir(mps_folder)))\n",
    "mps_list.sort()\n",
    "myqlm_list = list(filter(lambda x: x.find(\"pauli\")!=-1,os.listdir(myqlm_folder)))\n",
    "myqlm_list.sort()"
   ]
  },
  {
   "cell_type": "markdown",
   "id": "324b934b",
   "metadata": {},
   "source": [
    "## 1. Bare Comparisons Using np.isclose\n",
    "\n",
    "First bare comparison consist on:\n",
    "\n",
    "* Load Both decompositions.\n",
    "* Compare **PauliCoefficients** using np.isclose without no conf. \n",
    "* Posible Outpus:\n",
    "    * 0 -> np.isclose returns a True, here we consider that both decompositions are the same.\n",
    "    * -1 -> np.isclose returns a False. Decompositions are not the same. There are difference between **PauliCoefficients**. We need to do more comparisons\n",
    "    * -2. Here there is a problem: The number of Pauli decompositions are diffeent. We need to do more tests."
   ]
  },
  {
   "cell_type": "code",
   "execution_count": 4,
   "id": "cd063d23",
   "metadata": {},
   "outputs": [],
   "source": [
    "def compare(mps_name, myqlm_name):\n",
    "    mps = pd.read_csv(mps_name, sep=\";\", index_col=0)\n",
    "    myqlm = pd.read_csv(myqlm_name, sep=\";\", index_col=0)\n",
    "    #ps = mps[\"PauliStrings\"] == myqlm[\"PauliStrings\"].all()\n",
    "    try:\n",
    "        test = np.isclose(mps[\"PauliCoefficients\"], myqlm[\"PauliCoefficients\"]).all()\n",
    "        if test == True:\n",
    "            return 0\n",
    "        else:\n",
    "            return -1\n",
    "    except ValueError:\n",
    "        return -2\n",
    "    return test"
   ]
  },
  {
   "cell_type": "code",
   "execution_count": 5,
   "id": "53081857",
   "metadata": {},
   "outputs": [
    {
     "name": "stdout",
     "output_type": "stream",
     "text": [
      "/home/cesga/gferro/Codigo/TensorNetworks/Zalo/nqubits_03_depth_1_pauli.csv /home/cesga/gferro/Codigo/WP3_Benchmark/tnbs/BTC_04_PH/configuration_files/nqubits_03_depth_1_pauli.csv\n"
     ]
    }
   ],
   "source": [
    "mps_name = mps_folder + mps_list[0]\n",
    "myqlm_name = myqlm_folder + myqlm_list[0]\n",
    "print(mps_name, myqlm_name)"
   ]
  },
  {
   "cell_type": "code",
   "execution_count": 6,
   "id": "ed3a6d59",
   "metadata": {
    "scrolled": true
   },
   "outputs": [],
   "source": [
    "failed = []\n",
    "error = []\n",
    "for mps_, mqylm_ in zip(mps_list, myqlm_list):\n",
    "    if mps_ == mqylm_:\n",
    "        mps_name = mps_folder + mps_\n",
    "        myqlm_name = myqlm_folder + mqylm_\n",
    "        test = compare(mps_name, myqlm_name)\n",
    "        if test == -1:\n",
    "            failed.append(mps_)\n",
    "        if test == -2:\n",
    "            error.append(mps_)          \n",
    "    else:\n",
    "        raise ValueError(\"Problem\")"
   ]
  },
  {
   "cell_type": "code",
   "execution_count": 7,
   "id": "c9996080",
   "metadata": {},
   "outputs": [
    {
     "name": "stdout",
     "output_type": "stream",
     "text": [
      "TotaL : 112. Failed: 60. Error:27\n"
     ]
    }
   ],
   "source": [
    "print(\"TotaL : {}. Failed: {}. Error:{}\".format(\n",
    "    len(mps_list), len(failed), len(error)))"
   ]
  },
  {
   "cell_type": "markdown",
   "id": "113e0028",
   "metadata": {},
   "source": [
    "###  First Results;\n",
    "\n",
    "**TotaL : 112. Failed: 60. Error:27**\n",
    "\n",
    "25 decompositions are equal!!"
   ]
  },
  {
   "cell_type": "markdown",
   "id": "8251fb8a",
   "metadata": {},
   "source": [
    "## 2. Comparisons of code -1\n",
    "\n",
    "Here we are going to compare the difference between the **PauliCoefficients** of the tfiles that returns a -1 in the bare comparison.  In these files the number of Pauli decompoisitions are the same but not all coefficentes can be considered equal usin np.isclose. \n",
    "\n",
    "In this case we are goint to execute several np.isclose and we are going to obtain the absolute tolerance for which the coefficients are considered equal by the np.isclose!"
   ]
  },
  {
   "cell_type": "code",
   "execution_count": 8,
   "id": "e424fd49",
   "metadata": {
    "scrolled": true
   },
   "outputs": [],
   "source": [
    "def compare_failed(mps_name, myqlm_name):\n",
    "    mps = pd.read_csv(mps_name, sep=\";\", index_col=0)\n",
    "    myqlm = pd.read_csv(myqlm_name, sep=\";\", index_col=0)\n",
    "    tols = [1.0e-7, 1.0e-6, 1.0e-5, 1.0e-4, 1.0e-3, 1.0e-2]\n",
    "    stop = False\n",
    "    i = 0\n",
    "    while stop == False:\n",
    "        #print(i, tols[i])\n",
    "        index = np.isclose(\n",
    "            mps[\"PauliCoefficients\"], myqlm[\"PauliCoefficients\"], atol=tols[i]\n",
    "        )    \n",
    "        if index.all() == True:\n",
    "            min_tol = tols[i]\n",
    "            stop = True\n",
    "        else:\n",
    "            i = i + 1 \n",
    "            if i > len(tols):\n",
    "                print(\"PROBLEM\")\n",
    "                stop = True\n",
    "                min_tol = -1\n",
    "    return min_tol"
   ]
  },
  {
   "cell_type": "code",
   "execution_count": 9,
   "id": "a4898197",
   "metadata": {},
   "outputs": [],
   "source": [
    "tol = []\n",
    "for fail in failed:\n",
    "    mps_name = mps_folder + fail\n",
    "    myqlm_name = myqlm_folder + fail\n",
    "    tol.append([compare_failed(mps_name, myqlm_name), fail])\n",
    "tols = pd.DataFrame(tol)"
   ]
  },
  {
   "cell_type": "code",
   "execution_count": 10,
   "id": "594284c7",
   "metadata": {
    "scrolled": false
   },
   "outputs": [],
   "source": [
    "a = tols[[0]].value_counts()"
   ]
  },
  {
   "cell_type": "code",
   "execution_count": 11,
   "id": "ab076a19",
   "metadata": {},
   "outputs": [
    {
     "data": {
      "text/plain": [
       "0.000001    16\n",
       "0.000010    18\n",
       "0.000100    19\n",
       "0.001000     7\n",
       "dtype: int64"
      ]
     },
     "execution_count": 11,
     "metadata": {},
     "output_type": "execute_result"
    }
   ],
   "source": [
    "a.sort_index()"
   ]
  },
  {
   "cell_type": "markdown",
   "id": "071a4cf0",
   "metadata": {},
   "source": [
    "Changing absolute tolerance for np.isclose we find:\n",
    "\n",
    "* 0.000001    16\n",
    "* 0.000010    10\n",
    "* 0.000100    27\n",
    "* 0.001000     7\n",
    "\n",
    "We find that more than 26 files have an aboslute error lower than $10^{-4}$ for all the **Pauli Coefficients** For these case we consider that this coefficients can be considered 0 so we can consider these files equal"
   ]
  },
  {
   "cell_type": "code",
   "execution_count": 12,
   "id": "8533592c",
   "metadata": {},
   "outputs": [
    {
     "name": "stdout",
     "output_type": "stream",
     "text": [
      "Total Failed: 60. Tolerance Higher than 1.0e-4: 26\n"
     ]
    }
   ],
   "source": [
    "print(\"Total Failed: {}. Tolerance Higher than 1.0e-4: {}\".format(\n",
    "    len(tols), len(tols[tols[0] >= 1.0e-4])\n",
    "))"
   ]
  },
  {
   "cell_type": "markdown",
   "id": "d01d8caf",
   "metadata": {},
   "source": [
    "### Stats on Failed\n",
    "\n",
    "We have 34 files where the difference between Pauli Coeficients are equal or higher than $10^{-4}$ for any Paulio Coefficient. \n",
    "\n",
    "**Can we considered this coefficients equal???** We are going to do more statistics."
   ]
  },
  {
   "cell_type": "code",
   "execution_count": 13,
   "id": "954aa054",
   "metadata": {},
   "outputs": [],
   "source": [
    "def stats_failed(mps_name, myqlm_name, name, tol = 1.0e-4):\n",
    "    mps = pd.read_csv(mps_name, sep=\";\", index_col=0)\n",
    "    myqlm = pd.read_csv(myqlm_name, sep=\";\", index_col=0)\n",
    "\n",
    "    error = np.abs(np.abs(mps[\"PauliCoefficients\"]) - np.abs(myqlm[\"PauliCoefficients\"]))\n",
    "    error_pdf = pd.DataFrame(error.describe()).T\n",
    "    error_pdf[\"name\"] = name\n",
    "    error_pdf[\"9\"] = error.quantile(0.95)\n",
    "    return error_pdf"
   ]
  },
  {
   "cell_type": "code",
   "execution_count": 14,
   "id": "5e894a01",
   "metadata": {},
   "outputs": [],
   "source": [
    "for_stats = tols[tols[0] >= 1.0e-4]"
   ]
  },
  {
   "cell_type": "code",
   "execution_count": 15,
   "id": "6c7c6e57",
   "metadata": {},
   "outputs": [],
   "source": [
    "stats = []\n",
    "for name in for_stats[1]:\n",
    "    mps_name = mps_folder + name\n",
    "    myqlm_name = myqlm_folder + name\n",
    "    stats.append(stats_failed(mps_name, myqlm_name, name))\n",
    "stats = pd.concat(stats)\n",
    "stats.reset_index(drop=True, inplace=True)"
   ]
  },
  {
   "cell_type": "code",
   "execution_count": 16,
   "id": "5c18a708",
   "metadata": {
    "scrolled": true
   },
   "outputs": [
    {
     "data": {
      "text/plain": [
       "0.00010575667210537665"
      ]
     },
     "execution_count": 16,
     "metadata": {},
     "output_type": "execute_result"
    }
   ],
   "source": [
    "stats[\"75%\"].max()"
   ]
  },
  {
   "cell_type": "code",
   "execution_count": 17,
   "id": "6c465f37",
   "metadata": {
    "scrolled": true
   },
   "outputs": [
    {
     "data": {
      "text/plain": [
       "0.0005474483699702325"
      ]
     },
     "execution_count": 17,
     "metadata": {},
     "output_type": "execute_result"
    }
   ],
   "source": [
    "stats[\"max\"].max()"
   ]
  },
  {
   "cell_type": "markdown",
   "id": "eaa9f36b",
   "metadata": {},
   "source": [
    "In general 75% of the Pauli coefficients has an absolute error lower than $2 * 10 ^{-4}$.\n",
    "\n",
    "And the highest absolute diference is 0.0005"
   ]
  },
  {
   "cell_type": "markdown",
   "id": "f8c2a1b5",
   "metadata": {},
   "source": [
    "### Resume\n",
    "\n",
    "I think it is good to consider thar the Pauli decomosition are equal in both methods"
   ]
  },
  {
   "cell_type": "markdown",
   "id": "69188d78",
   "metadata": {},
   "source": [
    "## 2. Errors\n",
    "\n",
    "The error (-2 code) are related with the number of coefficients presented in the decomposition. In general thes discrepancies are due to the truncation of coeffcients; we use the precision of the float for considering 0.0. Due to problems of resolutions problems acan be arised. Here we analyze "
   ]
  },
  {
   "cell_type": "code",
   "execution_count": 18,
   "id": "3c1f1698",
   "metadata": {
    "scrolled": true
   },
   "outputs": [
    {
     "data": {
      "text/plain": [
       "['nqubits_03_depth_1_pauli.csv',\n",
       " 'nqubits_04_depth_1_pauli.csv',\n",
       " 'nqubits_05_depth_1_pauli.csv',\n",
       " 'nqubits_06_depth_1_pauli.csv',\n",
       " 'nqubits_07_depth_1_pauli.csv',\n",
       " 'nqubits_08_depth_1_pauli.csv',\n",
       " 'nqubits_09_depth_1_pauli.csv',\n",
       " 'nqubits_10_depth_1_pauli.csv',\n",
       " 'nqubits_11_depth_1_pauli.csv',\n",
       " 'nqubits_12_depth_1_pauli.csv',\n",
       " 'nqubits_13_depth_1_pauli.csv',\n",
       " 'nqubits_14_depth_1_pauli.csv',\n",
       " 'nqubits_15_depth_1_pauli.csv',\n",
       " 'nqubits_16_depth_1_pauli.csv',\n",
       " 'nqubits_17_depth_1_pauli.csv',\n",
       " 'nqubits_18_depth_1_pauli.csv',\n",
       " 'nqubits_19_depth_1_pauli.csv',\n",
       " 'nqubits_21_depth_1_pauli.csv',\n",
       " 'nqubits_22_depth_1_pauli.csv',\n",
       " 'nqubits_23_depth_1_pauli.csv',\n",
       " 'nqubits_24_depth_1_pauli.csv',\n",
       " 'nqubits_25_depth_1_pauli.csv',\n",
       " 'nqubits_26_depth_1_pauli.csv',\n",
       " 'nqubits_27_depth_1_pauli.csv',\n",
       " 'nqubits_28_depth_1_pauli.csv',\n",
       " 'nqubits_29_depth_1_pauli.csv',\n",
       " 'nqubits_30_depth_1_pauli.csv']"
      ]
     },
     "execution_count": 18,
     "metadata": {},
     "output_type": "execute_result"
    }
   ],
   "source": [
    "error"
   ]
  },
  {
   "cell_type": "code",
   "execution_count": 19,
   "id": "34a5845e",
   "metadata": {},
   "outputs": [],
   "source": [
    "bad = []\n",
    "for fail in error:\n",
    "    mps_name = mps_folder + fail\n",
    "    myqlm_name = myqlm_folder + fail\n",
    "    mps = pd.read_csv(mps_name, sep=\";\", index_col=0)\n",
    "    myqlm = pd.read_csv(myqlm_name, sep=\";\", index_col=0)\n",
    "    pdf = pd.merge(mps, myqlm, on=[\"PauliStrings\"],how=\"outer\", indicator=True)\n",
    "    pdf = pdf.dropna()\n",
    "    test = np.isclose(pdf[\"PauliCoefficients_x\"], pdf[\"PauliCoefficients_y\"]).all()    \n",
    "    if test != True:\n",
    "        bad.append(fail)"
   ]
  },
  {
   "cell_type": "code",
   "execution_count": 20,
   "id": "720494a8",
   "metadata": {},
   "outputs": [
    {
     "data": {
      "text/plain": [
       "['nqubits_22_depth_1_pauli.csv',\n",
       " 'nqubits_23_depth_1_pauli.csv',\n",
       " 'nqubits_24_depth_1_pauli.csv',\n",
       " 'nqubits_25_depth_1_pauli.csv',\n",
       " 'nqubits_26_depth_1_pauli.csv',\n",
       " 'nqubits_27_depth_1_pauli.csv',\n",
       " 'nqubits_29_depth_1_pauli.csv',\n",
       " 'nqubits_30_depth_1_pauli.csv']"
      ]
     },
     "execution_count": 20,
     "metadata": {},
     "output_type": "execute_result"
    }
   ],
   "source": [
    "bad"
   ]
  },
  {
   "cell_type": "code",
   "execution_count": 23,
   "id": "7ae20588",
   "metadata": {},
   "outputs": [
    {
     "data": {
      "text/plain": [
       "'nqubits_25_depth_1_pauli.csv'"
      ]
     },
     "execution_count": 23,
     "metadata": {},
     "output_type": "execute_result"
    }
   ],
   "source": [
    "name = bad[3]\n",
    "name"
   ]
  },
  {
   "cell_type": "code",
   "execution_count": 22,
   "id": "dd5a8d57",
   "metadata": {},
   "outputs": [],
   "source": [
    "mps_name = mps_folder + name\n",
    "myqlm_name = myqlm_folder + name\n",
    "mps = pd.read_csv(mps_name, sep=\";\", index_col=0)\n",
    "myqlm = pd.read_csv(myqlm_name, sep=\";\", index_col=0)"
   ]
  },
  {
   "cell_type": "code",
   "execution_count": 24,
   "id": "499d8fe7",
   "metadata": {
    "scrolled": true
   },
   "outputs": [
    {
     "data": {
      "text/plain": [
       "<AxesSubplot:>"
      ]
     },
     "execution_count": 24,
     "metadata": {},
     "output_type": "execute_result"
    }
   ],
   "source": [
    "mps[\"PauliCoefficients\"].hist(bins=20, range=(-0.5, 0.5))"
   ]
  },
  {
   "cell_type": "code",
   "execution_count": 25,
   "id": "1468a288",
   "metadata": {},
   "outputs": [
    {
     "data": {
      "text/html": [
       "<div>\n",
       "<style scoped>\n",
       "    .dataframe tbody tr th:only-of-type {\n",
       "        vertical-align: middle;\n",
       "    }\n",
       "\n",
       "    .dataframe tbody tr th {\n",
       "        vertical-align: top;\n",
       "    }\n",
       "\n",
       "    .dataframe thead th {\n",
       "        text-align: right;\n",
       "    }\n",
       "</style>\n",
       "<table border=\"1\" class=\"dataframe\">\n",
       "  <thead>\n",
       "    <tr style=\"text-align: right;\">\n",
       "      <th></th>\n",
       "      <th>PauliCoefficients</th>\n",
       "      <th>PauliStrings</th>\n",
       "      <th>Qbits</th>\n",
       "    </tr>\n",
       "  </thead>\n",
       "  <tbody>\n",
       "    <tr>\n",
       "      <th>0</th>\n",
       "      <td>0.500000</td>\n",
       "      <td>III</td>\n",
       "      <td>[0, 1, 2]</td>\n",
       "    </tr>\n",
       "    <tr>\n",
       "      <th>12</th>\n",
       "      <td>-0.461940</td>\n",
       "      <td>IZI</td>\n",
       "      <td>[0, 1, 2]</td>\n",
       "    </tr>\n",
       "    <tr>\n",
       "      <th>55</th>\n",
       "      <td>-0.135299</td>\n",
       "      <td>ZXZ</td>\n",
       "      <td>[0, 1, 2]</td>\n",
       "    </tr>\n",
       "    <tr>\n",
       "      <th>59</th>\n",
       "      <td>0.135299</td>\n",
       "      <td>ZYZ</td>\n",
       "      <td>[0, 1, 2]</td>\n",
       "    </tr>\n",
       "  </tbody>\n",
       "</table>\n",
       "</div>"
      ],
      "text/plain": [
       "    PauliCoefficients PauliStrings      Qbits\n",
       "0            0.500000          III  [0, 1, 2]\n",
       "12          -0.461940          IZI  [0, 1, 2]\n",
       "55          -0.135299          ZXZ  [0, 1, 2]\n",
       "59           0.135299          ZYZ  [0, 1, 2]"
      ]
     },
     "execution_count": 25,
     "metadata": {},
     "output_type": "execute_result"
    }
   ],
   "source": [
    "mps[mps[\"PauliCoefficients\"].abs() > 1.0e-3]"
   ]
  },
  {
   "cell_type": "code",
   "execution_count": 26,
   "id": "99c36448",
   "metadata": {},
   "outputs": [
    {
     "data": {
      "text/html": [
       "<div>\n",
       "<style scoped>\n",
       "    .dataframe tbody tr th:only-of-type {\n",
       "        vertical-align: middle;\n",
       "    }\n",
       "\n",
       "    .dataframe tbody tr th {\n",
       "        vertical-align: top;\n",
       "    }\n",
       "\n",
       "    .dataframe thead th {\n",
       "        text-align: right;\n",
       "    }\n",
       "</style>\n",
       "<table border=\"1\" class=\"dataframe\">\n",
       "  <thead>\n",
       "    <tr style=\"text-align: right;\">\n",
       "      <th></th>\n",
       "      <th>PauliCoefficients</th>\n",
       "      <th>PauliStrings</th>\n",
       "      <th>Qbits</th>\n",
       "    </tr>\n",
       "  </thead>\n",
       "  <tbody>\n",
       "    <tr>\n",
       "      <th>0</th>\n",
       "      <td>0.125000</td>\n",
       "      <td>III</td>\n",
       "      <td>[0, 1, 2]</td>\n",
       "    </tr>\n",
       "    <tr>\n",
       "      <th>1</th>\n",
       "      <td>0.017350</td>\n",
       "      <td>IIX</td>\n",
       "      <td>[0, 1, 2]</td>\n",
       "    </tr>\n",
       "    <tr>\n",
       "      <th>2</th>\n",
       "      <td>-0.017413</td>\n",
       "      <td>IIY</td>\n",
       "      <td>[0, 1, 2]</td>\n",
       "    </tr>\n",
       "    <tr>\n",
       "      <th>3</th>\n",
       "      <td>-0.122056</td>\n",
       "      <td>IIZ</td>\n",
       "      <td>[0, 1, 2]</td>\n",
       "    </tr>\n",
       "    <tr>\n",
       "      <th>4</th>\n",
       "      <td>-0.022956</td>\n",
       "      <td>IXI</td>\n",
       "      <td>[0, 1, 2]</td>\n",
       "    </tr>\n",
       "    <tr>\n",
       "      <th>...</th>\n",
       "      <td>...</td>\n",
       "      <td>...</td>\n",
       "      <td>...</td>\n",
       "    </tr>\n",
       "    <tr>\n",
       "      <th>59</th>\n",
       "      <td>0.033825</td>\n",
       "      <td>ZYZ</td>\n",
       "      <td>[0, 1, 2]</td>\n",
       "    </tr>\n",
       "    <tr>\n",
       "      <th>60</th>\n",
       "      <td>0.080804</td>\n",
       "      <td>ZZI</td>\n",
       "      <td>[0, 1, 2]</td>\n",
       "    </tr>\n",
       "    <tr>\n",
       "      <th>61</th>\n",
       "      <td>0.015331</td>\n",
       "      <td>ZZX</td>\n",
       "      <td>[0, 1, 2]</td>\n",
       "    </tr>\n",
       "    <tr>\n",
       "      <th>62</th>\n",
       "      <td>-0.015390</td>\n",
       "      <td>ZZY</td>\n",
       "      <td>[0, 1, 2]</td>\n",
       "    </tr>\n",
       "    <tr>\n",
       "      <th>63</th>\n",
       "      <td>-0.078378</td>\n",
       "      <td>ZZZ</td>\n",
       "      <td>[0, 1, 2]</td>\n",
       "    </tr>\n",
       "  </tbody>\n",
       "</table>\n",
       "<p>64 rows × 3 columns</p>\n",
       "</div>"
      ],
      "text/plain": [
       "    PauliCoefficients PauliStrings      Qbits\n",
       "0            0.125000          III  [0, 1, 2]\n",
       "1            0.017350          IIX  [0, 1, 2]\n",
       "2           -0.017413          IIY  [0, 1, 2]\n",
       "3           -0.122056          IIZ  [0, 1, 2]\n",
       "4           -0.022956          IXI  [0, 1, 2]\n",
       "..                ...          ...        ...\n",
       "59           0.033825          ZYZ  [0, 1, 2]\n",
       "60           0.080804          ZZI  [0, 1, 2]\n",
       "61           0.015331          ZZX  [0, 1, 2]\n",
       "62          -0.015390          ZZY  [0, 1, 2]\n",
       "63          -0.078378          ZZZ  [0, 1, 2]\n",
       "\n",
       "[64 rows x 3 columns]"
      ]
     },
     "execution_count": 26,
     "metadata": {},
     "output_type": "execute_result"
    }
   ],
   "source": [
    "myqlm[myqlm[\"PauliCoefficients\"].abs() > 1.0e-3]"
   ]
  },
  {
   "cell_type": "code",
   "execution_count": null,
   "id": "ba095f69",
   "metadata": {},
   "outputs": [],
   "source": [
    "myqlm.hist(bins=20, range=(-0.5, 0.5))"
   ]
  },
  {
   "cell_type": "code",
   "execution_count": null,
   "id": "90297866",
   "metadata": {},
   "outputs": [],
   "source": [
    "%matplotlib inline"
   ]
  },
  {
   "cell_type": "code",
   "execution_count": null,
   "id": "d23ba89e",
   "metadata": {},
   "outputs": [],
   "source": []
  },
  {
   "cell_type": "code",
   "execution_count": null,
   "id": "c403e810",
   "metadata": {},
   "outputs": [],
   "source": []
  },
  {
   "cell_type": "code",
   "execution_count": null,
   "id": "c8b549a6",
   "metadata": {
    "scrolled": true
   },
   "outputs": [],
   "source": [
    "mps[\"PauliCoefficients\"].value_counts()"
   ]
  },
  {
   "cell_type": "code",
   "execution_count": null,
   "id": "4ba851ae",
   "metadata": {
    "scrolled": true
   },
   "outputs": [],
   "source": [
    "myqlm[\"PauliCoefficients\"].value_counts()"
   ]
  },
  {
   "cell_type": "code",
   "execution_count": null,
   "id": "0460900e",
   "metadata": {
    "scrolled": true
   },
   "outputs": [],
   "source": [
    "to_test = []\n",
    "buf = []\n",
    "for fail in error:\n",
    "    mps_name = mps_folder + fail\n",
    "    myqlm_name = myqlm_folder + fail\n",
    "    mps, myqlm = compared_error(mps_name, myqlm_name, fail)\n",
    "    pdf = pd.merge(\n",
    "        mps, myqlm, on = [\"PauliStrings\"], how=\"outer\", indicator=True\n",
    "    )\n",
    "    pdf = pdf[pdf[\"_merge\"] != \"both\"]\n",
    "    left = pdf[\"PauliCoefficients_x\"].dropna().abs()\n",
    "    right = pdf[\"PauliCoefficients_y\"].dropna().abs()\n",
    "    all_ = pd.concat([right, left], axis=0).mean()\n",
    "    print(all_)\n",
    "    if all_ < 1.0e-10:\n",
    "        to_test.append(fail)\n",
    "        print(\"Ol Rait\")\n",
    "    else:\n",
    "        print(\"Uoh!!\")\n",
    "        buf.append(fail)\n",
    "    \n"
   ]
  },
  {
   "cell_type": "code",
   "execution_count": null,
   "id": "79635816",
   "metadata": {},
   "outputs": [],
   "source": [
    "to_test"
   ]
  },
  {
   "cell_type": "code",
   "execution_count": null,
   "id": "2346394c",
   "metadata": {},
   "outputs": [],
   "source": [
    "buf"
   ]
  },
  {
   "cell_type": "code",
   "execution_count": null,
   "id": "b042c5a9",
   "metadata": {},
   "outputs": [],
   "source": [
    "mps_name = mps_folder + to_test[0]\n",
    "myqlm_name = myqlm_folder + to_test[0]\n",
    "mps = pd.read_csv(mps_name, sep=\";\", index_col=0)\n",
    "myqlm = pd.read_csv(myqlm_name, sep=\";\", index_col=0)"
   ]
  },
  {
   "cell_type": "code",
   "execution_count": null,
   "id": "b1bab9d1",
   "metadata": {},
   "outputs": [],
   "source": [
    "len(mps), len(myqlm)"
   ]
  },
  {
   "cell_type": "code",
   "execution_count": null,
   "id": "c23119b2",
   "metadata": {},
   "outputs": [],
   "source": [
    "pdf = pd.merge(mps, myqlm, on=[\"PauliStrings\"],how=\"outer\", indicator=True)\n",
    "pdf = pdf.dropna()\n",
    "test = np.isclose(pdf[\"PauliCoefficients_x\"], pdf[\"PauliCoefficients_y\"]).all()"
   ]
  },
  {
   "cell_type": "code",
   "execution_count": null,
   "id": "53acc33a",
   "metadata": {},
   "outputs": [],
   "source": []
  },
  {
   "cell_type": "code",
   "execution_count": null,
   "id": "b85db274",
   "metadata": {},
   "outputs": [],
   "source": []
  },
  {
   "cell_type": "code",
   "execution_count": null,
   "id": "52f26932",
   "metadata": {},
   "outputs": [],
   "source": [
    "myqlm"
   ]
  },
  {
   "cell_type": "code",
   "execution_count": null,
   "id": "0c173bf7",
   "metadata": {},
   "outputs": [],
   "source": [
    "for fail in to_test[1:]:\n",
    "    mps_name = mps_folder + fail\n",
    "    myqlm_name = myqlm_folder + fail\n",
    "    mps, myqlm = compared_error(mps_name, myqlm_name, fail)\n",
    "    pdf = pd.merge(\n",
    "        mps, myqlm, on = [\"PauliStrings\"], how=\"outer\", indicator=True\n",
    "    )\n",
    "    pdf = pdf[pdf[\"_merge\"] != \"both\"]"
   ]
  },
  {
   "cell_type": "code",
   "execution_count": null,
   "id": "358e3f4b",
   "metadata": {},
   "outputs": [],
   "source": [
    "pdf"
   ]
  },
  {
   "cell_type": "code",
   "execution_count": null,
   "id": "0f841dda",
   "metadata": {},
   "outputs": [],
   "source": [
    "to_test"
   ]
  },
  {
   "cell_type": "code",
   "execution_count": null,
   "id": "0263c4e9",
   "metadata": {},
   "outputs": [],
   "source": []
  },
  {
   "cell_type": "code",
   "execution_count": null,
   "id": "6a43d334",
   "metadata": {},
   "outputs": [],
   "source": []
  },
  {
   "cell_type": "code",
   "execution_count": null,
   "id": "27356c3f",
   "metadata": {
    "scrolled": true
   },
   "outputs": [],
   "source": [
    "name = 'nqubits_30_depth_1_pauli.csv'"
   ]
  },
  {
   "cell_type": "code",
   "execution_count": null,
   "id": "db87ec8c",
   "metadata": {},
   "outputs": [],
   "source": [
    "mps_name = mps_folder + name\n",
    "myqlm_name = myqlm_folder + name"
   ]
  },
  {
   "cell_type": "code",
   "execution_count": null,
   "id": "3c982851",
   "metadata": {},
   "outputs": [],
   "source": [
    "mps = pd.read_csv(mps_name, sep=\";\", index_col=0)\n",
    "myqlm = pd.read_csv(myqlm_name, sep=\";\", index_col=0)  "
   ]
  },
  {
   "cell_type": "code",
   "execution_count": null,
   "id": "39b47d36",
   "metadata": {
    "scrolled": true
   },
   "outputs": [],
   "source": [
    "len(mps)"
   ]
  },
  {
   "cell_type": "code",
   "execution_count": null,
   "id": "067a949c",
   "metadata": {},
   "outputs": [],
   "source": [
    "len(myqlm)"
   ]
  },
  {
   "cell_type": "code",
   "execution_count": null,
   "id": "4d0eebb5",
   "metadata": {},
   "outputs": [],
   "source": [
    "myqlm_name"
   ]
  },
  {
   "cell_type": "code",
   "execution_count": null,
   "id": "686322e5",
   "metadata": {},
   "outputs": [],
   "source": []
  },
  {
   "cell_type": "code",
   "execution_count": null,
   "id": "4b480687",
   "metadata": {},
   "outputs": [],
   "source": []
  },
  {
   "cell_type": "code",
   "execution_count": null,
   "id": "0a68f884",
   "metadata": {},
   "outputs": [],
   "source": [
    "myqlm"
   ]
  },
  {
   "cell_type": "code",
   "execution_count": null,
   "id": "ff0f15c3",
   "metadata": {},
   "outputs": [],
   "source": [
    "def compared_error(mps_name, myqlm_name, name):\n",
    "    mps = pd.read_csv(mps_name, sep=\";\", index_col=0)\n",
    "    myqlm = pd.read_csv(myqlm_name, sep=\";\", index_col=0)  \n",
    "    return mps, myqlm"
   ]
  },
  {
   "cell_type": "code",
   "execution_count": null,
   "id": "f563c23f",
   "metadata": {},
   "outputs": [],
   "source": [
    "pdf = pd.merge(\n",
    "    mps, myqlm, on = [\"PauliStrings\"], how=\"outer\", indicator=True\n",
    ")"
   ]
  },
  {
   "cell_type": "code",
   "execution_count": null,
   "id": "ebe90bd4",
   "metadata": {},
   "outputs": [],
   "source": [
    "pdf = pdf[pdf[\"_merge\"] != \"both\"]"
   ]
  },
  {
   "cell_type": "code",
   "execution_count": null,
   "id": "911c085a",
   "metadata": {},
   "outputs": [],
   "source": [
    "left = pdf[\"PauliCoefficients_x\"].dropna().abs().mean()\n",
    "right = pdf[\"PauliCoefficients_y\"].dropna().abs().mean()\n",
    "\n",
    "\n",
    "\n",
    "\n",
    "if (left < 1.0e-15) and (right < 1.0e-15):\n",
    "    print(\"Ol rait\")\n",
    "else:\n",
    "    print(\"Uoh\")"
   ]
  },
  {
   "cell_type": "code",
   "execution_count": null,
   "id": "11bce233",
   "metadata": {},
   "outputs": [],
   "source": [
    "right < 1.0e-15"
   ]
  },
  {
   "cell_type": "code",
   "execution_count": null,
   "id": "a53ae9a2",
   "metadata": {},
   "outputs": [],
   "source": [
    "pd.concat([right, left], axis=0)"
   ]
  },
  {
   "cell_type": "code",
   "execution_count": null,
   "id": "160a9e9f",
   "metadata": {},
   "outputs": [],
   "source": [
    "left"
   ]
  },
  {
   "cell_type": "code",
   "execution_count": null,
   "id": "82af961a",
   "metadata": {},
   "outputs": [],
   "source": []
  }
 ],
 "metadata": {
  "kernelspec": {
   "display_name": "Python 3 (ipykernel)",
   "language": "python",
   "name": "python3"
  },
  "language_info": {
   "codemirror_mode": {
    "name": "ipython",
    "version": 3
   },
   "file_extension": ".py",
   "mimetype": "text/x-python",
   "name": "python",
   "nbconvert_exporter": "python",
   "pygments_lexer": "ipython3",
   "version": "3.9.9"
  }
 },
 "nbformat": 4,
 "nbformat_minor": 5
}
