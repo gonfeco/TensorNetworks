{
 "cells": [
  {
   "cell_type": "markdown",
   "id": "386b4d53",
   "metadata": {},
   "source": [
    "## Bra and Ket Definitions\n",
    "\n",
    "$$\\newcommand{\\braket}[2]{\\left\\langle{#1}\\middle|{#2}\\right\\rangle}$$\n",
    "$$\\newcommand{\\ket}[1]{\\left|{#1}\\right\\rangle}$$\n",
    "$$\\newcommand{\\bra}[1]{\\left\\langle{#1}\\right|}$$"
   ]
  },
  {
   "cell_type": "markdown",
   "id": "e0b718b9",
   "metadata": {},
   "source": [
    "# Tight Bonding Chain\n",
    "\n",
    "Para el Hamiltoniano the un tight bond chain vamos a usar el zipper para resolverlo!!\n",
    "\n",
    "$$H = \\sum_{l=1}^{L-1} \\left( -t_l * c^{\\dagger}_{l+1} c_l - t_l^{*} c^{\\dagger}_l c_{l+1}\\right)$$"
   ]
  },
  {
   "cell_type": "code",
   "execution_count": null,
   "id": "1bf5303b",
   "metadata": {},
   "outputs": [],
   "source": [
    "import numpy as np\n",
    "import sys\n",
    "sys.path.append('../../')\n",
    "from tensornetworks import zipper"
   ]
  },
  {
   "cell_type": "code",
   "execution_count": null,
   "id": "ccf55b28",
   "metadata": {},
   "outputs": [],
   "source": [
    "c_plus = np.zeros((2,2))\n",
    "c_plus[1,0] = 1\n",
    "c_plus = c_plus.reshape((2, 2, 1))\n",
    "c_less = c_plus.transpose(1, 0, 2)"
   ]
  },
  {
   "cell_type": "code",
   "execution_count": null,
   "id": "2dec317e",
   "metadata": {},
   "outputs": [],
   "source": [
    "suma = 0\n",
    "for l, v in enumerate(t):\n",
    "    #print(l, v)\n",
    "    step = [np.identity(2) for i in range(N)]\n",
    "    step[l] = c_less\n",
    "    step[l+1] = c_plus\n",
    "    step_h = v * zipper(step)\n",
    "    step = [np.identity(2) for i in range(N)]\n",
    "    step[l] = c_plus\n",
    "    step[l+1] = c_less\n",
    "    step_h = -step_h - np.conjugate(v) * zipper(step)\n",
    "    v,d = np.linalg.eig(step_h)"
   ]
  },
  {
   "cell_type": "code",
   "execution_count": null,
   "id": "e8f36107",
   "metadata": {},
   "outputs": [],
   "source": [
    "suma2 = 0\n",
    "for l, v in enumerate(t):\n",
    "    #print(l, v)\n",
    "    step = [np.identity(2) for i in range(N)]\n",
    "    step[l] = c_plus\n",
    "    step[l+1] = c_less\n",
    "    suma2 = suma2 -  np.conjugate(v) * zipper(step)"
   ]
  }
 ],
 "metadata": {
  "kernelspec": {
   "display_name": "Python [conda env:pytorch]",
   "language": "python",
   "name": "conda-env-pytorch-py"
  },
  "language_info": {
   "codemirror_mode": {
    "name": "ipython",
    "version": 3
   },
   "file_extension": ".py",
   "mimetype": "text/x-python",
   "name": "python",
   "nbconvert_exporter": "python",
   "pygments_lexer": "ipython3",
   "version": "3.11.4"
  }
 },
 "nbformat": 4,
 "nbformat_minor": 5
}
