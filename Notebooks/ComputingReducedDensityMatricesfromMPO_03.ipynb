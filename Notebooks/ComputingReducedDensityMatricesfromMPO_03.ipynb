{
 "cells": [
  {
   "cell_type": "markdown",
   "id": "88e47321",
   "metadata": {},
   "source": [
    "# Computing Reduced Density Matrices from MPO"
   ]
  },
  {
   "cell_type": "markdown",
   "id": "9ef3adf3",
   "metadata": {},
   "source": [
    "### Basics Imports"
   ]
  },
  {
   "cell_type": "code",
   "execution_count": null,
   "id": "38af72a5",
   "metadata": {},
   "outputs": [],
   "source": [
    "import logging\n",
    "logging.basicConfig(\n",
    "    format='%(asctime)s-%(levelname)s: %(message)s',\n",
    "    datefmt='%m/%d/%Y %I:%M:%S %p',\n",
    "    #level=logging.INFO\n",
    "    level=logging.DEBUG\n",
    ")\n",
    "logger = logging.getLogger('__name__')"
   ]
  },
  {
   "cell_type": "code",
   "execution_count": null,
   "id": "61a310a3",
   "metadata": {
    "scrolled": true
   },
   "outputs": [],
   "source": [
    "import numpy as np\n",
    "import pandas as pd\n",
    "import sys"
   ]
  },
  {
   "cell_type": "markdown",
   "id": "da888594",
   "metadata": {},
   "source": [
    "### TensorNetworks imports"
   ]
  },
  {
   "cell_type": "code",
   "execution_count": null,
   "id": "643e4d67",
   "metadata": {},
   "outputs": [],
   "source": [
    "sys.path.append(\"../\")\n",
    "import tensornetworks as tn\n",
    "import tn_quantum_circuits as tnqc\n",
    "import gates as gt\n",
    "from tensornetworks import contract_indices, contract_indices_one_tensor"
   ]
  },
  {
   "cell_type": "markdown",
   "id": "358b792f",
   "metadata": {},
   "source": [
    "### Imports QLM"
   ]
  },
  {
   "cell_type": "code",
   "execution_count": null,
   "id": "9cc01fa7",
   "metadata": {},
   "outputs": [],
   "source": [
    "import qat.lang.AQASM as qlm\n",
    "from qat.qpus import PyLinalg\n",
    "qpu_p = PyLinalg()\n",
    "from qlm_stuff import proccess_qresults"
   ]
  },
  {
   "cell_type": "markdown",
   "id": "812fc3b6",
   "metadata": {},
   "source": [
    "## 1. Functions for creating the MPS"
   ]
  },
  {
   "cell_type": "code",
   "execution_count": null,
   "id": "d5f2c91b",
   "metadata": {},
   "outputs": [],
   "source": [
    "def apply_2qubit_gates(qubits, gates):\n",
    "    \"\"\"\n",
    "    Executes product of tensor with a gate\n",
    "    -o-o-o-o-o-..o-o-\n",
    "     |   |   |     |\n",
    "    \"\"\"\n",
    "    new_qubits = [0 for i in qubits]\n",
    "    left = qubits[0]\n",
    "    for i in range(1, len(qubits)):\n",
    "        right = qubits[i]\n",
    "        gate = gates[i-1]\n",
    "        #new_qubits[i-1], left = phase_change(left, right, gate)\n",
    "        new_qubits[i-1], left = tnqc.apply_2qubit_gate(left, right, gate)\n",
    "\n",
    "    new_qubits[-1], new_qubits[0] = tnqc.apply_2qubit_gate(\n",
    "        left, new_qubits[0], gates[-1])\n",
    "     #new_qubits[-1], new_qubits[0] = phase_change(left, new_qubits[0], gates[-1])\n",
    "    return new_qubits"
   ]
  },
  {
   "cell_type": "code",
   "execution_count": null,
   "id": "3b8f4c23",
   "metadata": {},
   "outputs": [],
   "source": [
    "def get_angles(depth):\n",
    "    theta = np.pi/4.0\n",
    "    delta_theta = theta / (depth + 1)\n",
    "    angles = []\n",
    "    for i in range(depth):\n",
    "        angles.append([(2 * i + 1) * delta_theta, (2 * i + 2) * delta_theta])\n",
    "    return angles     "
   ]
  },
  {
   "cell_type": "code",
   "execution_count": null,
   "id": "b3221f9f",
   "metadata": {},
   "outputs": [],
   "source": [
    "def ansatz(nqubits, depth, angles):\n",
    "    # Intitial State\n",
    "    zeroket = np.zeros((1, 2, 1))\n",
    "    zeroket[0][0][0] = 1\n",
    "    zeroket = zeroket.astype(complex)\n",
    "    #Initial State\n",
    "    mps_ = [zeroket] * nqubits\n",
    "    for depth_ in range(depth):\n",
    "        # First Layer\n",
    "        gates = [gt.x_rotation(angles[depth_][0]) for i in mps_]\n",
    "        mps_ = tnqc.apply_local_gate(mps_, gates)\n",
    "        ent_gates = [gt.controlz() for i in mps_]\n",
    "        mps_ = apply_2qubit_gates(mps_, ent_gates)\n",
    "        gates = [gt.z_rotation(angles[depth_][1]) for i in mps_]\n",
    "        mps_ = tnqc.apply_local_gate(mps_, gates)\n",
    "    return mps_"
   ]
  },
  {
   "cell_type": "code",
   "execution_count": null,
   "id": "3c226c27",
   "metadata": {},
   "outputs": [],
   "source": [
    "def ansatz_qlm(nqubits, depth, angles):\n",
    "    qprog = qlm.Program()\n",
    "    qbits = qprog.qalloc(nqubits)\n",
    "    for d_ in range(0, depth):\n",
    "        for i in range(nqubits):\n",
    "            qprog.apply(qlm.RX(angles[d_][0]), qbits[i])\n",
    "        for i in range(nqubits-1):\n",
    "            qprog.apply(qlm.Z.ctrl(), qbits[i], qbits[i+1])    \n",
    "        qprog.apply(qlm.Z.ctrl(), qbits[nqubits-1], qbits[0])\n",
    "        for i in range(nqubits):\n",
    "            qprog.apply(qlm.RZ(angles[d_][1]), qbits[i])    \n",
    "    circ = qprog.to_circ()\n",
    "    #%qatdisplay circ\n",
    "    job = circ.to_job()\n",
    "    state = qpu_p.submit(job)\n",
    "    pdf = proccess_qresults(state, nqubits)\n",
    "    pdf.reset_index(drop=True, inplace=True)\n",
    "    return pdf, circ  "
   ]
  },
  {
   "cell_type": "markdown",
   "id": "97ca1163",
   "metadata": {},
   "source": [
    "## 2. Creating MPS"
   ]
  },
  {
   "cell_type": "code",
   "execution_count": null,
   "id": "fff5d80b",
   "metadata": {
    "scrolled": true
   },
   "outputs": [],
   "source": [
    "# MPS uisng My code\n",
    "depth = 3\n",
    "nqubits = 10"
   ]
  },
  {
   "cell_type": "code",
   "execution_count": null,
   "id": "6544e096",
   "metadata": {},
   "outputs": [],
   "source": [
    "free = [0, 1, 2, 3, 4, 5, 6, 7]\n",
    "contraction = list(range(nqubits))\n",
    "contraction = [i for i in contraction if i not in free]"
   ]
  },
  {
   "cell_type": "code",
   "execution_count": null,
   "id": "b9a018ce",
   "metadata": {
    "scrolled": true
   },
   "outputs": [],
   "source": [
    "%%time\n",
    "mps = ansatz(nqubits, depth, get_angles(depth))\n",
    "#rho_mps = reduced_rho_mps(mps, free, contraction)\n",
    "#rho_mps_z = reduced_rho_mpo_z(mps, free, contraction)"
   ]
  },
  {
   "cell_type": "code",
   "execution_count": null,
   "id": "62c3573f",
   "metadata": {
    "scrolled": true
   },
   "outputs": [],
   "source": [
    "%%time\n",
    "#Stat of circuit for comparing with MPS computations\n",
    "pdf, c= ansatz_qlm(nqubits, depth,  get_angles(depth))\n",
    "# Computing Density Matrix using reduced_matrix for pure tensors\n",
    "amp = np.array(pdf[\"Amplitude\"])\n",
    "amp = amp.reshape(tuple([2 for i in range(nqubits)]))\n",
    "rho_qlm = tn.reduced_matrix(amp, free, contraction)"
   ]
  },
  {
   "cell_type": "markdown",
   "id": "23bd179c",
   "metadata": {},
   "source": [
    "## 3. Reduced Rho"
   ]
  },
  {
   "cell_type": "code",
   "execution_count": null,
   "id": "fd37f705",
   "metadata": {},
   "outputs": [],
   "source": [
    "from tensornetworks import mpo_contraction\n",
    "def contraction_pl(tensor):\n",
    "    tensor = contract_indices(tensor, tensor.conj(), [1], [1])\n",
    "    tensor = tensor.transpose(0, 2, 1, 3)\n",
    "    reshape = [\n",
    "        tensor.shape[0] * tensor.shape[1], \n",
    "        tensor.shape[2] * tensor.shape[3]\n",
    "    ]\n",
    "    tensor = tensor.reshape(reshape)\n",
    "    return tensor\n",
    "\n",
    "def reduced_rho_mps(mps, free_indices, contraction_indices):\n",
    "    # First deal with contraction indices\n",
    "    tensor_contracted = contraction_pl(mps[contraction_indices[0]])\n",
    "    print(tensor_contracted.shape)\n",
    "    for i in contraction_indices[1:]:\n",
    "        #print(i)\n",
    "        tensor = contraction_pl(mps[i])\n",
    "        tensor_contracted = mpo_contraction(tensor_contracted, tensor)    \n",
    "    # Second deal with free indices\n",
    "    tensor_free = mps[free_indices[0]]\n",
    "    print(tensor_free.shape)\n",
    "    for i in free_indices[1:]:\n",
    "        #print(i)\n",
    "        tensor = mps[i]\n",
    "        #print(tensor.shape)\n",
    "        tensor_free= contract_indices(tensor_free, tensor, [2], [0])\n",
    "        #print(tensor_free.shape)\n",
    "        reshape = [\n",
    "            tensor_free.shape[0] , \n",
    "            tensor_free.shape[1] * tensor_free.shape[2],\n",
    "            tensor_free.shape[3], \n",
    "        ]\n",
    "        tensor_free = tensor_free.reshape(reshape)  \n",
    "    \n",
    "    tensor_free = contract_indices(tensor_free, tensor_free.conj(), [], [])\n",
    "    tensor_free = tensor_free.transpose(0, 3, 1, 4, 2, 5)\n",
    "    reshape = [\n",
    "        tensor_free.shape[0] * tensor_free.shape[1],\n",
    "        tensor_free.shape[2],  tensor_free.shape[3],\n",
    "        tensor_free.shape[4] * tensor_free.shape[5]\n",
    "    ]\n",
    "    tensor_free = tensor_free.reshape(reshape)\n",
    "    print(tensor_free.shape, tensor_contracted.shape)\n",
    "    tensor_out = contract_indices(tensor_free, tensor_contracted, [3, 0], [0, 1])\n",
    "    return tensor_out"
   ]
  },
  {
   "cell_type": "code",
   "execution_count": null,
   "id": "afff2820",
   "metadata": {},
   "outputs": [],
   "source": [
    "rho_mps = reduced_rho_mps(mps, free, contraction)"
   ]
  },
  {
   "cell_type": "code",
   "execution_count": null,
   "id": "217301e9",
   "metadata": {},
   "outputs": [],
   "source": [
    "np.isclose(rho_mps, rho_qlm).all()"
   ]
  }
 ],
 "metadata": {
  "kernelspec": {
   "display_name": "Python [conda env:myqlm]",
   "language": "python",
   "name": "conda-env-myqlm-py"
  },
  "language_info": {
   "codemirror_mode": {
    "name": "ipython",
    "version": 3
   },
   "file_extension": ".py",
   "mimetype": "text/x-python",
   "name": "python",
   "nbconvert_exporter": "python",
   "pygments_lexer": "ipython3",
   "version": "3.9.18"
  }
 },
 "nbformat": 4,
 "nbformat_minor": 5
}
