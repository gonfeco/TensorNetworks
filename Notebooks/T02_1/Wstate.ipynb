{
 "cells": [
  {
   "cell_type": "markdown",
   "id": "d77a202b",
   "metadata": {},
   "source": [
    "# W state"
   ]
  },
  {
   "cell_type": "code",
   "execution_count": null,
   "id": "ccb4de9a",
   "metadata": {},
   "outputs": [],
   "source": [
    "import numpy as np"
   ]
  },
  {
   "cell_type": "code",
   "execution_count": null,
   "id": "404cd33a",
   "metadata": {},
   "outputs": [],
   "source": [
    "def W_state(n):\n",
    "    w = np.zeros([2 for i in range(n)])\n",
    "    for j in range(n):\n",
    "        indices = [0 for i in range(n)]\n",
    "        indices[j] = 1\n",
    "        w[tuple(indices)] = 1.0 / np.sqrt(n)\n",
    "    return w\n",
    "\n",
    "def W_state2(n):\n",
    "    w = np.zeros([2 for i in range(n)])\n",
    "    indices = tuple([tuple([int(j==i) for i in range(n)]) for j in range(n)])\n",
    "    w[indices] = 1.0 / np.sqrt(n)\n",
    "    return w"
   ]
  },
  {
   "cell_type": "code",
   "execution_count": null,
   "id": "94bbc8bc",
   "metadata": {},
   "outputs": [],
   "source": [
    "%%time\n",
    "a = W_state(20)"
   ]
  },
  {
   "cell_type": "code",
   "execution_count": null,
   "id": "98e16bb9",
   "metadata": {},
   "outputs": [],
   "source": [
    "%%time\n",
    "a = W_state2(20)"
   ]
  },
  {
   "cell_type": "code",
   "execution_count": null,
   "id": "e611c8d6",
   "metadata": {},
   "outputs": [],
   "source": [
    "np.count_nonzero(a)"
   ]
  },
  {
   "cell_type": "code",
   "execution_count": null,
   "id": "3c7a8651",
   "metadata": {},
   "outputs": [],
   "source": [
    "a[0, 0, 0, 0, 1]"
   ]
  },
  {
   "cell_type": "code",
   "execution_count": null,
   "id": "681d1407",
   "metadata": {},
   "outputs": [],
   "source": [
    "a[0, 0, 0, 1, 0]"
   ]
  },
  {
   "cell_type": "code",
   "execution_count": null,
   "id": "6f1a1c44",
   "metadata": {},
   "outputs": [],
   "source": [
    "a[0, 0, 1, 0, 0]"
   ]
  },
  {
   "cell_type": "code",
   "execution_count": null,
   "id": "baf1073b",
   "metadata": {},
   "outputs": [],
   "source": [
    "a[0, 1, 0, 0, 0]"
   ]
  },
  {
   "cell_type": "code",
   "execution_count": null,
   "id": "6e6deafd",
   "metadata": {},
   "outputs": [],
   "source": [
    "a[1, 0, 0, 0, 0]"
   ]
  },
  {
   "cell_type": "code",
   "execution_count": null,
   "id": "5d03a8cd",
   "metadata": {},
   "outputs": [],
   "source": [
    "a[1, 1, 0, 0,0]"
   ]
  },
  {
   "cell_type": "code",
   "execution_count": null,
   "id": "693a8082",
   "metadata": {},
   "outputs": [],
   "source": [
    "n = 20"
   ]
  },
  {
   "cell_type": "code",
   "execution_count": null,
   "id": "51a73cea",
   "metadata": {},
   "outputs": [],
   "source": [
    "w.itemset(2, 1)"
   ]
  },
  {
   "cell_type": "code",
   "execution_count": null,
   "id": "ec0d4bba",
   "metadata": {},
   "outputs": [],
   "source": [
    "%%time\n",
    "a = np.zeros([2 for i in range(n)])\n",
    "[a.itemset(2**i, 1.0 /np.sqrt(n)) for i in range(n)]"
   ]
  },
  {
   "cell_type": "code",
   "execution_count": null,
   "id": "3084159f",
   "metadata": {},
   "outputs": [],
   "source": [
    "np.count_nonzero(a)"
   ]
  },
  {
   "cell_type": "code",
   "execution_count": null,
   "id": "8c5d0396",
   "metadata": {},
   "outputs": [],
   "source": []
  },
  {
   "cell_type": "code",
   "execution_count": null,
   "id": "93480d7f",
   "metadata": {},
   "outputs": [],
   "source": []
  }
 ],
 "metadata": {
  "kernelspec": {
   "display_name": "Python [conda env:pytorch]",
   "language": "python",
   "name": "conda-env-pytorch-py"
  },
  "language_info": {
   "codemirror_mode": {
    "name": "ipython",
    "version": 3
   },
   "file_extension": ".py",
   "mimetype": "text/x-python",
   "name": "python",
   "nbconvert_exporter": "python",
   "pygments_lexer": "ipython3",
   "version": "3.11.4"
  }
 },
 "nbformat": 4,
 "nbformat_minor": 5
}
