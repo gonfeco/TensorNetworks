{
 "cells": [
  {
   "cell_type": "code",
   "execution_count": 1,
   "id": "8457af4e",
   "metadata": {},
   "outputs": [],
   "source": [
    "import logging\n",
    "logging.basicConfig(\n",
    "    format='%(asctime)s-%(levelname)s: %(message)s',\n",
    "    datefmt='%m/%d/%Y %I:%M:%S %p',\n",
    "    level=logging.INFO\n",
    "    #level=logging.DEBUG\n",
    ")\n",
    "logger = logging.getLogger('__name__')"
   ]
  },
  {
   "cell_type": "code",
   "execution_count": 2,
   "id": "d0c11503",
   "metadata": {},
   "outputs": [
    {
     "name": "stderr",
     "output_type": "stream",
     "text": [
      "10/26/2023 07:07:44 PM-INFO: NumExpr defaulting to 8 threads.\n"
     ]
    }
   ],
   "source": [
    "import numpy as np\n",
    "import pandas as pd\n",
    "import sys"
   ]
  },
  {
   "cell_type": "code",
   "execution_count": 3,
   "id": "9af375b5",
   "metadata": {},
   "outputs": [],
   "source": [
    "sys.path.append(\"../\")\n",
    "sys.path.append(\"../../WP3_Benchmark/tnbs/BTC_04_PH/PH\")"
   ]
  },
  {
   "cell_type": "code",
   "execution_count": 4,
   "id": "87c89d8e",
   "metadata": {},
   "outputs": [
    {
     "name": "stderr",
     "output_type": "stream",
     "text": [
      "/home/gferro/anaconda3/lib/python3.9/site-packages/scipy/__init__.py:146: UserWarning: A NumPy version >=1.16.5 and <1.23.0 is required for this version of SciPy (detected version 1.23.5\n",
      "  warnings.warn(f\"A NumPy version >={np_minversion} and <{np_maxversion}\"\n"
     ]
    },
    {
     "ename": "ModuleNotFoundError",
     "evalue": "No module named 'qat.qlmaas'",
     "output_type": "error",
     "traceback": [
      "\u001b[0;31m---------------------------------------------------------------------------\u001b[0m",
      "\u001b[0;31mModuleNotFoundError\u001b[0m                       Traceback (most recent call last)",
      "Cell \u001b[0;32mIn[4], line 1\u001b[0m\n\u001b[0;32m----> 1\u001b[0m \u001b[38;5;28;01mfrom\u001b[39;00m \u001b[38;5;21;01mcompare\u001b[39;00m \u001b[38;5;28;01mimport\u001b[39;00m do_mps, do_myqlm\n",
      "File \u001b[0;32m/mnt/d/Trabajo/TensorNetworks/Notebooks/../compare.py:9\u001b[0m\n\u001b[1;32m      6\u001b[0m \u001b[38;5;28;01mfrom\u001b[39;00m \u001b[38;5;21;01mparent_hamiltonian_mps\u001b[39;00m \u001b[38;5;28;01mimport\u001b[39;00m PH_MPS\n\u001b[1;32m      8\u001b[0m sys\u001b[38;5;241m.\u001b[39mpath\u001b[38;5;241m.\u001b[39mappend(\u001b[38;5;124m\"\u001b[39m\u001b[38;5;124m../WP3_Benchmark/tnbs/BTC_04_PH/PH\u001b[39m\u001b[38;5;124m\"\u001b[39m)\n\u001b[0;32m----> 9\u001b[0m \u001b[38;5;28;01mfrom\u001b[39;00m \u001b[38;5;21;01mansatzes\u001b[39;00m \u001b[38;5;28;01mimport\u001b[39;00m run_ansatz\n\u001b[1;32m     10\u001b[0m \u001b[38;5;28;01mfrom\u001b[39;00m \u001b[38;5;21;01mparent_hamiltonian\u001b[39;00m \u001b[38;5;28;01mimport\u001b[39;00m PH\n\u001b[1;32m     13\u001b[0m \u001b[38;5;28;01mdef\u001b[39;00m \u001b[38;5;21mdo_mps\u001b[39m(nqubits, depth):\n\u001b[1;32m     14\u001b[0m     \u001b[38;5;66;03m# MPS uisng My code\u001b[39;00m\n",
      "File \u001b[0;32m/mnt/d/Trabajo/TensorNetworks/Notebooks/../../WP3_Benchmark/tnbs/BTC_04_PH/PH/ansatzes.py:22\u001b[0m\n\u001b[1;32m     20\u001b[0m \u001b[38;5;28;01mimport\u001b[39;00m \u001b[38;5;21;01mqat\u001b[39;00m\u001b[38;5;21;01m.\u001b[39;00m\u001b[38;5;21;01mlang\u001b[39;00m\u001b[38;5;21;01m.\u001b[39;00m\u001b[38;5;21;01mAQASM\u001b[39;00m \u001b[38;5;28;01mas\u001b[39;00m \u001b[38;5;21;01mqlm\u001b[39;00m\n\u001b[1;32m     21\u001b[0m \u001b[38;5;28;01mfrom\u001b[39;00m \u001b[38;5;21;01mdatetime\u001b[39;00m \u001b[38;5;28;01mimport\u001b[39;00m datetime\n\u001b[0;32m---> 22\u001b[0m \u001b[38;5;28;01mfrom\u001b[39;00m \u001b[38;5;21;01mqat\u001b[39;00m\u001b[38;5;21;01m.\u001b[39;00m\u001b[38;5;21;01mqlmaas\u001b[39;00m \u001b[38;5;28;01mimport\u001b[39;00m QLMaaSConnection\n\u001b[1;32m     23\u001b[0m \u001b[38;5;28;01mfrom\u001b[39;00m \u001b[38;5;21;01mqat\u001b[39;00m\u001b[38;5;21;01m.\u001b[39;00m\u001b[38;5;21;01mcore\u001b[39;00m \u001b[38;5;28;01mimport\u001b[39;00m Result\n\u001b[1;32m     24\u001b[0m \u001b[38;5;28;01mfrom\u001b[39;00m \u001b[38;5;21;01mqat\u001b[39;00m\u001b[38;5;21;01m.\u001b[39;00m\u001b[38;5;21;01mfermion\u001b[39;00m\u001b[38;5;21;01m.\u001b[39;00m\u001b[38;5;21;01mcircuits\u001b[39;00m \u001b[38;5;28;01mimport\u001b[39;00m make_ldca_circ, make_general_hwe_circ\n",
      "\u001b[0;31mModuleNotFoundError\u001b[0m: No module named 'qat.qlmaas'"
     ]
    }
   ],
   "source": [
    "from compare import do_mps, do_myqlm"
   ]
  },
  {
   "cell_type": "code",
   "execution_count": 5,
   "id": "b91ea801",
   "metadata": {},
   "outputs": [],
   "source": [
    "nqubits = 12\n",
    "depth = 2"
   ]
  },
  {
   "cell_type": "code",
   "execution_count": 6,
   "id": "20e5ad54",
   "metadata": {},
   "outputs": [
    {
     "ename": "NameError",
     "evalue": "name 'do_mps' is not defined",
     "output_type": "error",
     "traceback": [
      "\u001b[0;31m---------------------------------------------------------------------------\u001b[0m",
      "\u001b[0;31mNameError\u001b[0m                                 Traceback (most recent call last)",
      "Cell \u001b[0;32mIn[6], line 1\u001b[0m\n\u001b[0;32m----> 1\u001b[0m pdf_mps, angles_mps \u001b[38;5;241m=\u001b[39m \u001b[43mdo_mps\u001b[49m(nqubits, depth)\n\u001b[1;32m      2\u001b[0m pdf_myqlm, angles_myqlm \u001b[38;5;241m=\u001b[39m do_myqlm(nqubits, depth)\n",
      "\u001b[0;31mNameError\u001b[0m: name 'do_mps' is not defined"
     ]
    }
   ],
   "source": [
    "pdf_mps, angles_mps = do_mps(nqubits, depth)\n",
    "pdf_myqlm, angles_myqlm = do_myqlm(nqubits, depth)"
   ]
  },
  {
   "cell_type": "code",
   "execution_count": null,
   "id": "6fff9d6b",
   "metadata": {},
   "outputs": [],
   "source": [
    "indices = np.isclose(\n",
    "    pdf_mps[\"PauliCoefficients\"].astype(float), \n",
    "    pdf_myqlm[\"PauliCoefficients\"].astype(float)\n",
    ")"
   ]
  },
  {
   "cell_type": "code",
   "execution_count": null,
   "id": "e68ce48e",
   "metadata": {},
   "outputs": [],
   "source": [
    "pdf_myqlm[~indices][\"PauliCoefficients\"]"
   ]
  },
  {
   "cell_type": "code",
   "execution_count": null,
   "id": "4cdcb5af",
   "metadata": {},
   "outputs": [],
   "source": [
    "pdf_mps[~indices][\"PauliCoefficients\"]"
   ]
  },
  {
   "cell_type": "code",
   "execution_count": null,
   "id": "3b5d1c17",
   "metadata": {},
   "outputs": [],
   "source": [
    "(pdf_myqlm[~indices][\"PauliCoefficients\"] - pdf_mps[~indices][\"PauliCoefficients\"]).sum()"
   ]
  },
  {
   "cell_type": "code",
   "execution_count": 9,
   "id": "292ca97e",
   "metadata": {},
   "outputs": [
    {
     "data": {
      "text/plain": [
       "256"
      ]
     },
     "execution_count": 9,
     "metadata": {},
     "output_type": "execute_result"
    }
   ],
   "source": [
    "16 * 16"
   ]
  },
  {
   "cell_type": "code",
   "execution_count": null,
   "id": "a8e06a48",
   "metadata": {},
   "outputs": [],
   "source": [
    "from ansatz_mps import ansatz, get_angles\n",
    "from parent_hamiltonian_mps import PH_MPS\n",
    "ph_conf = {\"save\": False}\n",
    "ph_ob_mps = PH_MPS(mps, True, **ph_conf)"
   ]
  },
  {
   "cell_type": "code",
   "execution_count": null,
   "id": "6be49bbd",
   "metadata": {},
   "outputs": [],
   "source": [
    "# MPS uisng My code\n",
    "depth = 3\n",
    "nqubits = 4 \n",
    "mps = ansatz(nqubits, depth, get_angles(depth))\n",
    "ph_conf = {\"save\": False}\n",
    "ph_ob_mps = PH_MPS(mps, True, **ph_conf)\n",
    "ph_ob_mps.local_ph()"
   ]
  },
  {
   "cell_type": "code",
   "execution_count": null,
   "id": "36bc4873",
   "metadata": {},
   "outputs": [],
   "source": [
    "ph_ob_mps.pauli_pdf"
   ]
  },
  {
   "cell_type": "code",
   "execution_count": null,
   "id": "7bccb10c",
   "metadata": {},
   "outputs": [],
   "source": [
    "def do_mps(nqubits, depth):\n",
    "    # MPS uisng My code\n",
    "    mps = ansatz(nqubits, depth, get_angles(depth))\n",
    "    ph_conf = {\"save\": False}\n",
    "    ph_ob_mps = PH_MPS(mps, True, **ph_conf)\n",
    "    ph_ob_mps.local_ph()\n",
    "    return ph_ob_mps.pauli_pdf"
   ]
  },
  {
   "cell_type": "code",
   "execution_count": null,
   "id": "db84e045",
   "metadata": {},
   "outputs": [],
   "source": [
    "do_mps(nqubits, depth)"
   ]
  },
  {
   "cell_type": "code",
   "execution_count": null,
   "id": "b0cd492f",
   "metadata": {},
   "outputs": [],
   "source": []
  },
  {
   "cell_type": "code",
   "execution_count": null,
   "id": "8e72cfe2",
   "metadata": {},
   "outputs": [],
   "source": []
  },
  {
   "cell_type": "code",
   "execution_count": null,
   "id": "a46d105a",
   "metadata": {},
   "outputs": [],
   "source": [
    "sys.path.append(\"../\")\n",
    "import tensornetworks as tn\n",
    "import tn_quantum_circuits as tnqc\n",
    "import gates as gt\n",
    "from tensornetworks import contract_indices, contract_indices_one_tensor, density_matrix_mps_contracion"
   ]
  },
  {
   "cell_type": "code",
   "execution_count": null,
   "id": "9548a778",
   "metadata": {},
   "outputs": [],
   "source": [
    "def apply_2qubit_gates(qubits, gates):\n",
    "    \"\"\"\n",
    "    Executes product of tensor with a gate\n",
    "    -o-o-o-o-o-..o-o-\n",
    "     |   |   |     |\n",
    "    \"\"\"\n",
    "    new_qubits = [0 for i in qubits]\n",
    "    left = qubits[0]\n",
    "    for i in range(1, len(qubits)):\n",
    "        right = qubits[i]\n",
    "        gate = gates[i-1]\n",
    "        #new_qubits[i-1], left = phase_change(left, right, gate)\n",
    "        new_qubits[i-1], left = tnqc.apply_2qubit_gate(left, right, gate)\n",
    "\n",
    "    new_qubits[-1], new_qubits[0] = tnqc.apply_2qubit_gate(\n",
    "        left, new_qubits[0], gates[-1])\n",
    "     #new_qubits[-1], new_qubits[0] = phase_change(left, new_qubits[0], gates[-1])\n",
    "    return new_qubits\n",
    "\n",
    "def get_angles(depth):\n",
    "    theta = np.pi/4.0\n",
    "    delta_theta = theta / (depth + 1)\n",
    "    angles = []\n",
    "    for i in range(depth):\n",
    "        angles.append([(2 * i + 1) * delta_theta, (2 * i + 2) * delta_theta])\n",
    "    return angles     \n",
    "\n",
    "def ansatz(nqubits, depth, angles):\n",
    "    # Intitial State\n",
    "    zeroket = np.zeros((1, 2, 1))\n",
    "    zeroket[0][0][0] = 1\n",
    "    zeroket = zeroket.astype(complex)\n",
    "    #Initial State\n",
    "    mps_ = [zeroket] * nqubits\n",
    "    for depth_ in range(depth):\n",
    "        # First Layer\n",
    "        gates = [gt.x_rotation(angles[depth_][0]) for i in mps_]\n",
    "        mps_ = tnqc.apply_local_gate(mps_, gates)\n",
    "        ent_gates = [gt.controlz() for i in mps_]\n",
    "        mps_ = apply_2qubit_gates(mps_, ent_gates)\n",
    "        gates = [gt.z_rotation(angles[depth_][1]) for i in mps_]\n",
    "        mps_ = tnqc.apply_local_gate(mps_, gates)\n",
    "    return mps_"
   ]
  },
  {
   "cell_type": "code",
   "execution_count": null,
   "id": "94dd702b",
   "metadata": {},
   "outputs": [],
   "source": [
    "# MPS uisng My code\n",
    "depth = 3\n",
    "nqubits = 4 \n",
    "mps = ansatz(nqubits, depth, get_angles(depth))\n",
    "pdf_zalo = tnqc.get_state_from_mps(mps)"
   ]
  },
  {
   "cell_type": "code",
   "execution_count": null,
   "id": "a7c4a108",
   "metadata": {},
   "outputs": [],
   "source": [
    "from parent_hamiltonian_mps import PH_MPS"
   ]
  },
  {
   "cell_type": "code",
   "execution_count": null,
   "id": "3de6ae4f",
   "metadata": {},
   "outputs": [],
   "source": []
  },
  {
   "cell_type": "code",
   "execution_count": null,
   "id": "11877e3c",
   "metadata": {},
   "outputs": [],
   "source": [
    "ph_conf = {\"save\": False}\n",
    "ph_ob_mps = PH_MPS(mps, True, **ph_conf)"
   ]
  },
  {
   "cell_type": "code",
   "execution_count": null,
   "id": "0083b893",
   "metadata": {},
   "outputs": [],
   "source": [
    "ph_ob_mps.local_ph()"
   ]
  },
  {
   "cell_type": "code",
   "execution_count": null,
   "id": "35001342",
   "metadata": {},
   "outputs": [],
   "source": [
    "ph_ob_mps.pauli_pdf"
   ]
  },
  {
   "cell_type": "code",
   "execution_count": null,
   "id": "1f9ecf99",
   "metadata": {},
   "outputs": [],
   "source": []
  },
  {
   "cell_type": "code",
   "execution_count": null,
   "id": "323a349d",
   "metadata": {},
   "outputs": [],
   "source": [
    "\n",
    "\n",
    "def reduced_rho_mps(mps, free_indices, contraction_indices):\n",
    "    i = 0\n",
    "    tensor_out = mps[i]\n",
    "    # Starting Tensor for Denisty Matrix\n",
    "    \n",
    "    if i in free_indices:\n",
    "        tensor_out = contract_indices(tensor_out, tensor_out.conj(), [], [])\n",
    "    elif i in contraction_indices:\n",
    "        tensor_out = contract_indices(tensor_out, tensor_out.conj(), [1], [1])\n",
    "    else:\n",
    "        raise ValueError(\"Problem with site i: {}\".format(i))\n",
    "    \n",
    "    for i in range(1, len(mps)):\n",
    "        tensor = mps[i]\n",
    "        if i in free_indices:\n",
    "            tensor = contract_indices(tensor, tensor.conj(), [], [])\n",
    "        elif i in contraction_indices:\n",
    "            tensor = contract_indices(tensor, tensor.conj(), [1], [1])\n",
    "        else:\n",
    "            raise ValueError(\"Problem with site i: {}\".format(i))        \n",
    "        \n",
    "        tensor_out = density_matrix_mps_contracion(tensor_out, tensor)\n",
    "        \n",
    "    tensor_out= contract_indices_one_tensor(tensor_out, [(0, 2), (3, 5)])\n",
    "    \n",
    "    return tensor_out   \n",
    "\n",
    "def get_local_reduced_matrix(state, qb_pos):\n",
    "    \"\"\"\n",
    "    Given a MPS representation of a input state and position qubit\n",
    "    (qb_pos) computes the minimum local reduced density matrix from\n",
    "    qb_pos qubit such that its null space can be computable:\n",
    "    i.e. rank(local_rho) < dim(local_rho)\n",
    "\n",
    "    Parameters\n",
    "    ----------\n",
    "\n",
    "    state : numpy array\n",
    "        MPS representation of an state\n",
    "    qb_pos : int\n",
    "        position of the qubit for computing the reduced density matrix\n",
    "\n",
    "    Returns\n",
    "    _______\n",
    "\n",
    "    local_qubits : list\n",
    "        list with the qubits affected by the reduced density matrix\n",
    "    local_rho : numpy array\n",
    "        array with the reduced density matrix for the input qbit\n",
    "        position\n",
    "    \"\"\"\n",
    "    logger.debug(\"Computing local reduced density matrix: qb_pos: %d\", qb_pos)\n",
    "    nqubit = len(state)\n",
    "    state_index = list(range(nqubit))\n",
    "    if qb_pos not in state_index:\n",
    "        text = \"qb_pos: {} NOT IN: {}\".format(qb_pos, state_index)\n",
    "        raise ValueError(text)\n",
    "    group_qbits = 1\n",
    "    stop = True\n",
    "    while stop:\n",
    "        # Iteration for grouping one qubit more in each step of the loop\n",
    "        free_indices = [(qb_pos + k)%nqubit for k in range(group_qbits + 1)]\n",
    "        logger.debug(\"\\t free_indices: %s\", free_indices)\n",
    "        # The contraction indices are built\n",
    "        contraction_indices = [\n",
    "            i for i in state_index if i not in free_indices\n",
    "        ]\n",
    "        logger.debug(\"\\t contraction_indices: %s\", contraction_indices)\n",
    "        # Computing the reduced density matrix\n",
    "        rho = reduced_rho_mps(state, free_indices, contraction_indices)\n",
    "        # Computes the rank of the obtained reduced matrix\n",
    "        rank = np.linalg.matrix_rank(rho)\n",
    "        logger.debug(\"\\t rank: %d. Dimension: %d\", rank, len(rho))\n",
    "        if rank < len(rho):\n",
    "            # Now we can compute a null space for reduced density operator\n",
    "            logger.debug(\"\\t Grouped Qubits: %s\", free_indices)\n",
    "            # Store the local qubits for each qubit\n",
    "            local_qubits = free_indices\n",
    "            # Store the local reduced density matrices for each qubit\n",
    "            local_rho = rho\n",
    "            stop = False\n",
    "        group_qbits = group_qbits + 1\n",
    "\n",
    "        if group_qbits == nqubit:\n",
    "            stop = False\n",
    "            local_rho = rho\n",
    "            local_qubits = free_indices\n",
    "        logger.debug(\"\\t STOP: %s\", stop)\n",
    "    return local_qubits, local_rho\n"
   ]
  },
  {
   "cell_type": "code",
   "execution_count": null,
   "id": "605ef833",
   "metadata": {},
   "outputs": [],
   "source": [
    "get_local_reduced_matrix(mps, 1)"
   ]
  },
  {
   "cell_type": "code",
   "execution_count": null,
   "id": "cc9adcef",
   "metadata": {},
   "outputs": [],
   "source": []
  },
  {
   "cell_type": "code",
   "execution_count": null,
   "id": "409418b7",
   "metadata": {},
   "outputs": [],
   "source": []
  },
  {
   "cell_type": "markdown",
   "id": "8966a4f8",
   "metadata": {},
   "source": [
    "### MyQLM"
   ]
  },
  {
   "cell_type": "code",
   "execution_count": null,
   "id": "0cfd0c18",
   "metadata": {},
   "outputs": [],
   "source": [
    "sys.path.append(\"../../WP3_Benchmark/tnbs/BTC_04_PH/PH\")"
   ]
  },
  {
   "cell_type": "code",
   "execution_count": null,
   "id": "81589183",
   "metadata": {},
   "outputs": [],
   "source": [
    "from ansatzes import run_ansatz\n",
    "from parent_hamiltonian import PH"
   ]
  },
  {
   "cell_type": "code",
   "execution_count": null,
   "id": "af6c17b8",
   "metadata": {},
   "outputs": [],
   "source": [
    "conf = {\n",
    "    \"nqubits\": nqubits,\n",
    "    \"depth\": depth,\n",
    "    \"ansatz\" : \"simple01\",\n",
    "    \"qpu_ansatz\": \"c\",\n",
    "    \"t_inv\": True,\n",
    "    \"folder\":  \"/EASQC/\",\n",
    "    \"save\": False,\n",
    "    \"solve\" : True,\n",
    "    \"submit\": False\n",
    "}\n",
    "solved_ansatz = run_ansatz(**conf)\n",
    "pdf = solved_ansatz[\"state\"]\n",
    "ph_conf = {\"save\": False}\n",
    "ph_ob = PH(pdf[[\"Amplitude\"]], True, **ph_conf)\n",
    "ph_ob.local_ph()\n",
    "ph_ob.pauli_pdf"
   ]
  },
  {
   "cell_type": "code",
   "execution_count": null,
   "id": "4746dafc",
   "metadata": {},
   "outputs": [],
   "source": [
    "np.isclose(\n",
    "    ph_ob_mps.pauli_pdf[\"PauliCoefficients\"].astype(float),\n",
    "    ph_ob.pauli_pdf[\"PauliCoefficients\"].astype(float)\n",
    ").all()"
   ]
  },
  {
   "cell_type": "code",
   "execution_count": null,
   "id": "070998d6",
   "metadata": {},
   "outputs": [],
   "source": [
    "ph_ob.pauli_pdf[\"PauliCoefficients\"].astype(float)\n"
   ]
  },
  {
   "cell_type": "code",
   "execution_count": null,
   "id": "40db0a49",
   "metadata": {},
   "outputs": [],
   "source": [
    "ph_ob_mps.pauli_pdf[\"PauliCoefficients\"]"
   ]
  },
  {
   "cell_type": "code",
   "execution_count": null,
   "id": "4c41e4c8",
   "metadata": {},
   "outputs": [],
   "source": [
    "np.isclose?"
   ]
  },
  {
   "cell_type": "code",
   "execution_count": null,
   "id": "e436dd20",
   "metadata": {
    "scrolled": true
   },
   "outputs": [],
   "source": []
  },
  {
   "cell_type": "code",
   "execution_count": null,
   "id": "2688d97a",
   "metadata": {},
   "outputs": [],
   "source": []
  },
  {
   "cell_type": "code",
   "execution_count": null,
   "id": "f0afbed6",
   "metadata": {},
   "outputs": [],
   "source": []
  },
  {
   "cell_type": "code",
   "execution_count": null,
   "id": "42ea7bd7",
   "metadata": {},
   "outputs": [],
   "source": []
  },
  {
   "cell_type": "code",
   "execution_count": null,
   "id": "22519e18",
   "metadata": {},
   "outputs": [],
   "source": []
  },
  {
   "cell_type": "code",
   "execution_count": null,
   "id": "548441e6",
   "metadata": {},
   "outputs": [],
   "source": []
  },
  {
   "cell_type": "code",
   "execution_count": null,
   "id": "6069bec2",
   "metadata": {},
   "outputs": [],
   "source": []
  },
  {
   "cell_type": "code",
   "execution_count": null,
   "id": "b9c0ef5f",
   "metadata": {},
   "outputs": [],
   "source": []
  },
  {
   "cell_type": "code",
   "execution_count": null,
   "id": "0bd346c9",
   "metadata": {},
   "outputs": [],
   "source": []
  },
  {
   "cell_type": "code",
   "execution_count": null,
   "id": "60be3523",
   "metadata": {},
   "outputs": [],
   "source": []
  }
 ],
 "metadata": {
  "kernelspec": {
   "display_name": "tnbs",
   "language": "python",
   "name": "tnbs"
  },
  "language_info": {
   "codemirror_mode": {
    "name": "ipython",
    "version": 3
   },
   "file_extension": ".py",
   "mimetype": "text/x-python",
   "name": "python",
   "nbconvert_exporter": "python",
   "pygments_lexer": "ipython3",
   "version": "3.9.16"
  }
 },
 "nbformat": 4,
 "nbformat_minor": 5
}
