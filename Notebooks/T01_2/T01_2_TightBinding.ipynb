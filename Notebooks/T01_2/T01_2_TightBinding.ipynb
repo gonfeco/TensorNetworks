{
 "cells": [
  {
   "cell_type": "code",
   "execution_count": 1,
   "id": "8d67a763",
   "metadata": {},
   "outputs": [],
   "source": [
    "import numpy as np\n",
    "from sympy import Matrix, init_printing\n",
    "init_printing()"
   ]
  },
  {
   "cell_type": "code",
   "execution_count": 2,
   "id": "e39a6715",
   "metadata": {},
   "outputs": [],
   "source": [
    "import matplotlib.pyplot as plt"
   ]
  },
  {
   "cell_type": "markdown",
   "id": "9bee41d4",
   "metadata": {},
   "source": [
    "## Matlab Solution"
   ]
  },
  {
   "cell_type": "code",
   "execution_count": 3,
   "id": "9f9eb2ea",
   "metadata": {},
   "outputs": [],
   "source": [
    "def tight_bind_matlab(t_):\n",
    "    #creates the hamiltonian\n",
    "    h_1p = np.diag(-t_,-1)\n",
    "    h_1p = h_1p + np.conjugate(h_1p).T # Hermitianize\n",
    "    e_1p = np.linalg.eigvals(h_1p)\n",
    "    e_1p.sort()\n",
    "    e_g = np.sum(e_1p[e_1p<0])\n",
    "    d_G = 2**(sum(np.isclose(e_1p, 0)))\n",
    "    return e_g, d_G, e_1p, h_1p\n"
   ]
  },
  {
   "cell_type": "markdown",
   "id": "4ce39c42",
   "metadata": {},
   "source": [
    "##  (1) $L = 10$, $t_\\ell = 1$ for all $\\ell$'s:"
   ]
  },
  {
   "cell_type": "code",
   "execution_count": 4,
   "id": "c7bd744b",
   "metadata": {},
   "outputs": [
    {
     "name": "stdout",
     "output_type": "stream",
     "text": [
      "(9,)\n"
     ]
    }
   ],
   "source": [
    "t = np.ones(9)\n",
    "print(t.shape)"
   ]
  },
  {
   "cell_type": "code",
   "execution_count": 5,
   "id": "9aba1b4f",
   "metadata": {},
   "outputs": [
    {
     "name": "stdout",
     "output_type": "stream",
     "text": [
      "Ground State Energy: -6.026674183332272\n",
      "Ground State Degeneracy: 1\n"
     ]
    }
   ],
   "source": [
    "gse, deg, egiv, hamil = tight_bind_matlab(t)\n",
    "print(\"Ground State Energy: {}\".format(gse))\n",
    "print(\"Ground State Degeneracy: {}\".format(deg))"
   ]
  },
  {
   "cell_type": "code",
   "execution_count": 6,
   "id": "dd82d153",
   "metadata": {},
   "outputs": [
    {
     "data": {
      "text/plain": [
       "array([-1.91898595, -1.68250707, -1.30972147, -0.83083003, -0.28462968,\n",
       "        0.28462968,  0.83083003,  1.30972147,  1.68250707,  1.91898595])"
      ]
     },
     "execution_count": 6,
     "metadata": {},
     "output_type": "execute_result"
    }
   ],
   "source": [
    "egiv"
   ]
  },
  {
   "cell_type": "markdown",
   "id": "ec27ca18",
   "metadata": {},
   "source": [
    "## (2) $L = 11$, $t_\\ell = 1$ for all $\\ell$'s:"
   ]
  },
  {
   "cell_type": "code",
   "execution_count": null,
   "id": "788ee4c1",
   "metadata": {},
   "outputs": [],
   "source": [
    "t = np.ones(10)\n",
    "print(t.shape)\n",
    "gse, deg, egiv, hamil = tight_bind_matlab(t)\n",
    "print(\"Ground State Energy: {}\".format(gse))\n",
    "print(\"Ground State Degeneracy: {}\".format(deg))"
   ]
  },
  {
   "cell_type": "code",
   "execution_count": null,
   "id": "70a08e35",
   "metadata": {},
   "outputs": [],
   "source": [
    "np.isclose(egiv, 0)"
   ]
  },
  {
   "cell_type": "code",
   "execution_count": null,
   "id": "8eac8853",
   "metadata": {},
   "outputs": [],
   "source": [
    "t = np.ones((11,1))"
   ]
  },
  {
   "cell_type": "markdown",
   "id": "dd978d74",
   "metadata": {},
   "source": [
    "## (3) $L = 11$, $t_\\ell = e^{\\mathrm{i} \\ell}$:"
   ]
  },
  {
   "cell_type": "code",
   "execution_count": null,
   "id": "fe39e56f",
   "metadata": {},
   "outputs": [],
   "source": [
    "gse, deg, egiv, hamil = tight_bind_matlab(np.array([np.exp(1j*l) for l in range(10)]))\n",
    "print(\"Ground State Energy: {}\".format(gse))\n",
    "print(\"Ground State Degeneracy: {}\".format(deg))"
   ]
  },
  {
   "cell_type": "markdown",
   "id": "1784b6ff",
   "metadata": {},
   "source": [
    "# Python Code"
   ]
  },
  {
   "cell_type": "code",
   "execution_count": null,
   "id": "11b81136",
   "metadata": {},
   "outputs": [],
   "source": [
    "import t01_2"
   ]
  },
  {
   "cell_type": "markdown",
   "id": "a2ccde6f",
   "metadata": {},
   "source": [
    "##  (1) $L = 10$, $t_\\ell = 1$ for all $\\ell$'s:"
   ]
  },
  {
   "cell_type": "code",
   "execution_count": null,
   "id": "8479dcd5",
   "metadata": {},
   "outputs": [],
   "source": [
    "%%time\n",
    "L = 9\n",
    "t_l = [1 for i in range(L)]\n",
    "gse, deg, egiv = t01_2.tb_chain(t_l)\n",
    "print(\"Ground State Energy: {}\".format(gse))\n",
    "print(\"Ground State Degeneracy: {}\".format(deg))"
   ]
  },
  {
   "cell_type": "markdown",
   "id": "e823238b",
   "metadata": {},
   "source": [
    "## (2) $L = 11$, $t_\\ell = 1$ for all $\\ell$'s:"
   ]
  },
  {
   "cell_type": "code",
   "execution_count": null,
   "id": "ce2d21ea",
   "metadata": {},
   "outputs": [],
   "source": [
    "%%time\n",
    "L = 10\n",
    "t_l = [1 for i in range(L)]\n",
    "gse, deg, egiv = t01_2.tb_chain(t_l)\n",
    "print(\"Ground State Energy: {}\".format(gse))\n",
    "print(\"Ground State Degeneracy: {}\".format(deg))"
   ]
  },
  {
   "cell_type": "markdown",
   "id": "a3c65e7c",
   "metadata": {},
   "source": [
    "## (3) $L = 11$, $t_\\ell = e^{\\mathrm{i} \\ell}$:"
   ]
  },
  {
   "cell_type": "code",
   "execution_count": null,
   "id": "d161b8bc",
   "metadata": {},
   "outputs": [],
   "source": [
    "%%time\n",
    "gse, deg, egiv =  t01_2.tb_chain(np.array([np.exp(1j*l) for l in range(10)]))\n",
    "print(\"Ground State Energy: {}\".format(gse))\n",
    "print(\"Ground State Degeneracy: {}\".format(deg))"
   ]
  },
  {
   "cell_type": "markdown",
   "id": "23106ec4",
   "metadata": {},
   "source": [
    "# Nueva Solucion Python"
   ]
  },
  {
   "cell_type": "code",
   "execution_count": null,
   "id": "3f47bcb2",
   "metadata": {},
   "outputs": [],
   "source": [
    "def get_vector(l, dim):\n",
    "    v = np.zeros((dim, 1))\n",
    "    v[l] = 1\n",
    "    return v\n",
    "\n",
    "def tb_chain_2(t_vector):\n",
    "    h1p = sum([t* get_vector(l+1, len(t_vector) + 1) @ get_vector(l, len(t_vector) + 1).T for l, t in enumerate(t_vector)])    \n",
    "    h1p = -h1p - np.conjugate(h1p).T\n",
    "    eigvs = np.linalg.eigvals(h1p)\n",
    "    eigvs.sort()\n",
    "    egs = sum(eigvs[eigvs < 0])\n",
    "    dg = 2**np.isclose(eigvs, 0).sum()\n",
    "    return egs, dg, eigvs    "
   ]
  },
  {
   "cell_type": "markdown",
   "id": "884958c3",
   "metadata": {},
   "source": [
    "##  (1) $L = 10$, $t_\\ell = 1$ for all $\\ell$'s:"
   ]
  },
  {
   "cell_type": "code",
   "execution_count": null,
   "id": "44d79e76",
   "metadata": {},
   "outputs": [],
   "source": [
    "%%time\n",
    "L = 9\n",
    "t_l = [1 for i in range(L)]\n",
    "gse, deg, egiv =  t01_2.tb_chain_2(t_l)\n",
    "print(\"Ground State Energy: {}\".format(gse))\n",
    "print(\"Ground State Degeneracy: {}\".format(deg))"
   ]
  },
  {
   "cell_type": "markdown",
   "id": "4dab56d4",
   "metadata": {},
   "source": [
    "## (2) $L = 11$, $t_\\ell = 1$ for all $\\ell$'s:"
   ]
  },
  {
   "cell_type": "code",
   "execution_count": null,
   "id": "b1f94f78",
   "metadata": {},
   "outputs": [],
   "source": [
    "%%time\n",
    "L = 10\n",
    "t_l = [1 for i in range(L)]\n",
    "gse, deg, egiv = t01_2.tb_chain_2(t_l)\n",
    "print(\"Ground State Energy: {}\".format(gse))\n",
    "print(\"Ground State Degeneracy: {}\".format(deg))"
   ]
  },
  {
   "cell_type": "markdown",
   "id": "2d51ae74",
   "metadata": {},
   "source": [
    "## (3) $L = 11$, $t_\\ell = e^{\\mathrm{i} \\ell}$:"
   ]
  },
  {
   "cell_type": "code",
   "execution_count": null,
   "id": "5827a225",
   "metadata": {},
   "outputs": [],
   "source": [
    "%%time\n",
    "gse, deg, egiv =  t01_2.tb_chain_2(np.array([np.exp(1j*l) for l in range(10)]))\n",
    "print(\"Ground State Energy: {}\".format(gse))\n",
    "print(\"Ground State Degeneracy: {}\".format(deg))"
   ]
  },
  {
   "cell_type": "code",
   "execution_count": null,
   "id": "fba0402c",
   "metadata": {},
   "outputs": [],
   "source": []
  },
  {
   "cell_type": "code",
   "execution_count": null,
   "id": "0f4967f9",
   "metadata": {},
   "outputs": [],
   "source": []
  }
 ],
 "metadata": {
  "kernelspec": {
   "display_name": "Python 3 (ipykernel)",
   "language": "python",
   "name": "python3"
  },
  "language_info": {
   "codemirror_mode": {
    "name": "ipython",
    "version": 3
   },
   "file_extension": ".py",
   "mimetype": "text/x-python",
   "name": "python",
   "nbconvert_exporter": "python",
   "pygments_lexer": "ipython3",
   "version": "3.9.16"
  }
 },
 "nbformat": 4,
 "nbformat_minor": 5
}
