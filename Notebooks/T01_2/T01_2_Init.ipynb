{
 "cells": [
  {
   "cell_type": "markdown",
   "id": "72895e92",
   "metadata": {},
   "source": [
    "## Bra and Ket Definitions\n",
    "\n",
    "$$\\newcommand{\\braket}[2]{\\left\\langle{#1}\\middle|{#2}\\right\\rangle}$$\n",
    "$$\\newcommand{\\ket}[1]{\\left|{#1}\\right\\rangle}$$\n",
    "$$\\newcommand{\\bra}[1]{\\left\\langle{#1}\\right|}$$\n"
   ]
  },
  {
   "cell_type": "code",
   "execution_count": null,
   "id": "cd281b63",
   "metadata": {},
   "outputs": [],
   "source": [
    "import numpy as np\n",
    "from sympy import Matrix, init_printing\n",
    "init_printing()"
   ]
  },
  {
   "cell_type": "code",
   "execution_count": null,
   "id": "596fdaeb",
   "metadata": {},
   "outputs": [],
   "source": [
    "import t01_2"
   ]
  },
  {
   "cell_type": "markdown",
   "id": "0926cef1",
   "metadata": {},
   "source": [
    "# Tight Bonding Chain\n",
    "\n",
    "Tenemos una cadena conformada por **L** sitios. En cada sitio puede haber o no una partícula fermiónica. La interacción que permitimos es que una partícula que está en un sitio *l* puede saltar con una derminada amplitud a los sitios contiguos, es decir:\n",
    "\n",
    "$$t_l: \\ket{l} \\rightarrow \\ket{l+1} \\; \\text{o} \\;\\ket{l} \\leftarrow \\ket{l+1}$$\n",
    "\n",
    "Donde $\\ket{l}$ implica que hay una partícula en el sitio *l*-esimo. El Hamiltoniano que regiría el sistema sería tal que:\n",
    "\n",
    "$$H = \\sum_{l=1}^{L-1} \\left( -t_l * c^{\\dagger}_{l+1} c_l - t_l^{*} c^{\\dagger}_l c_{l+1}\\right)$$"
   ]
  },
  {
   "cell_type": "code",
   "execution_count": null,
   "id": "9214dbd7",
   "metadata": {},
   "outputs": [],
   "source": [
    "L = 2\n",
    "t_l = [1 for i in range(L-1)]\n",
    "print(t_l)"
   ]
  },
  {
   "cell_type": "markdown",
   "id": "7a593a14",
   "metadata": {},
   "source": [
    "## 1. Usando implementación completa y directa.\n",
    "\n",
    "En este caso lo que haríamos sería suponer que la ocupación en cada sitio es un vector de dos dimensiones de tal modo que, sobre un sitio *l* de la cadena podríamos escribir:\n",
    "\n",
    "$$\n",
    "\\ket{0} = \n",
    "\\begin{pmatrix}\n",
    "    1 \\\\\n",
    "    0 \\\\\n",
    "\\end{pmatrix}\n",
    "\\; \\text{y} \\;\n",
    "\\ket{1} = \n",
    "\\begin{pmatrix}\n",
    "    0 \\\\\n",
    "    1 \\\\\n",
    "\\end{pmatrix}\n",
    "$$\n",
    "\n",
    "Donde $\\ket{0}$ implicaría que el sitio está vacío y $\\ket{1}$ está ocupado.\n",
    "\n",
    "Los operadores de creación y aniquilación trabajarían del siguiente modo:\n",
    "\n",
    "$$c^{\\dagger}\\ket{0}=\\ket{1} \\;; \\; c^{\\dagger}\\ket{1}=0 \\;;\\; c\\ket{0}=0 \\;;\\; c\\ket{1}=\\ket{0}$$\n",
    "\n",
    "De tal modo que: \n",
    "\n",
    "$$\n",
    "c^{\\dagger} = \\begin{pmatrix}\n",
    "    0 & 0 \\\\\n",
    "    1 & 0\\\\\n",
    "\\end{pmatrix}\n",
    "\\; y \\;\n",
    "c = \\begin{pmatrix}\n",
    "    0 & 1 \\\\\n",
    "    0 & 0\\\\\n",
    "\\end{pmatrix}\n",
    "$$\n",
    "\n",
    "Pero esto sería sobre un solo sitio. ¿Qué pasaría sobre **L** sitios? Pues:\n",
    "\n",
    "$$c^{\\dagger}_l = I_0 \\otimes I_1 \\otimes \\cdot I_{l-1} \\otimes c^{\\dagger} \\otimes I_{l+1} \\cdots \\otimes I_{L-1}$$\n",
    "\n",
    "$$c_l = I_0 \\otimes I_1 \\otimes \\cdot I_{l-1} \\otimes c \\otimes I_{l+1} \\cdots \\otimes I_{L-1}$$\n",
    "\n",
    "Es decir son matrices grandes formadas por los productos de kronecker anteriores. La función **creator_l** me permite crear estos chorizos.\n",
    "\n"
   ]
  },
  {
   "cell_type": "markdown",
   "id": "9160587d",
   "metadata": {},
   "source": [
    "###  L = 2\n",
    "\n",
    "Este es el caso más sencillo tenemos una cadena de dos sitios y solo tendremos dos operadores de creación-destrucción por cada sitio:"
   ]
  },
  {
   "cell_type": "code",
   "execution_count": null,
   "id": "dcdd9257",
   "metadata": {},
   "outputs": [],
   "source": [
    "c_plus_0 = t01_2.creator_l(0, 2)\n",
    "c_0 = c_plus_0.T\n",
    "c_plus_1 = t01_2.creator_l(1, 2)\n",
    "c_1 = c_plus_1.T"
   ]
  },
  {
   "cell_type": "code",
   "execution_count": null,
   "id": "557fc65f",
   "metadata": {},
   "outputs": [],
   "source": [
    "Matrix(c_plus_0)"
   ]
  },
  {
   "cell_type": "code",
   "execution_count": null,
   "id": "1e056658",
   "metadata": {},
   "outputs": [],
   "source": [
    "Matrix(c_0)"
   ]
  },
  {
   "cell_type": "code",
   "execution_count": null,
   "id": "8a14dcab",
   "metadata": {},
   "outputs": [],
   "source": [
    "Matrix(c_plus_1)"
   ]
  },
  {
   "cell_type": "code",
   "execution_count": null,
   "id": "96981e33",
   "metadata": {},
   "outputs": [],
   "source": [
    "Matrix(c_1)"
   ]
  },
  {
   "cell_type": "markdown",
   "id": "106d9f43",
   "metadata": {},
   "source": [
    "**Importante** \n",
    "\n",
    "En esta representación necesito matrices de $2^L$ para las matrices de los operadores de creación y destrucción, así como para el hamiltoniano.\n",
    "\n",
    "La función **tbc_qbit_image** me hace todos los cálculos necesarios para una cadena que yo le diga"
   ]
  },
  {
   "cell_type": "code",
   "execution_count": null,
   "id": "ae9fd0f6",
   "metadata": {},
   "outputs": [],
   "source": [
    "L = 2\n",
    "t_l = [1 for i in range(L-1)]\n",
    "print(t_l)\n",
    "\n",
    "gse, eigh, eigv, h, gs_deg = t01_2.tbc_qbit_image(t_l)"
   ]
  },
  {
   "cell_type": "code",
   "execution_count": null,
   "id": "5cccfd98",
   "metadata": {},
   "outputs": [],
   "source": [
    "Matrix(h)"
   ]
  },
  {
   "cell_type": "code",
   "execution_count": null,
   "id": "d415e79e",
   "metadata": {
    "scrolled": true
   },
   "outputs": [],
   "source": [
    "# Eigenvalues of H\n",
    "Matrix(eigh)"
   ]
  },
  {
   "cell_type": "markdown",
   "id": "8d601d1d",
   "metadata": {},
   "source": [
    "Tenemos una degeneración de 2 en el estado fundamental!"
   ]
  },
  {
   "cell_type": "code",
   "execution_count": null,
   "id": "1e98ae90",
   "metadata": {},
   "outputs": [],
   "source": [
    "Matrix(eigv[:, np.argmin(eigh)])"
   ]
  },
  {
   "cell_type": "markdown",
   "id": "e81f40ca",
   "metadata": {},
   "source": [
    "El autovalor de menor valor representa la energía del estado fundamental del sistema, mientras que su autovector correspondiente es el estado fundamental. En $L=2$:\n",
    "\n",
    "$$\\ket{\\Psi_0} = \\frac{1}{\\sqrt{2}} \n",
    "\\begin{pmatrix}\n",
    "0 \\\\\n",
    "1\\\\\n",
    "1\\\\\n",
    "0\n",
    "\\end{pmatrix} = \\frac{1}{\\sqrt{2}} \\left(\n",
    "\\begin{pmatrix}\n",
    "0 \\\\\n",
    "1\\\\\n",
    "0\\\\\n",
    "0\n",
    "\\end{pmatrix} + \\begin{pmatrix}\n",
    "0 \\\\\n",
    "0\\\\\n",
    "1\\\\\n",
    "0\n",
    "\\end{pmatrix} \\right) =\n",
    " \\frac{1}{\\sqrt{2}}  \\left( \\ket{0}\\otimes\\ket{1} + \\ket{1}\\otimes\\ket{0} \\right)\n",
    "$$"
   ]
  },
  {
   "cell_type": "code",
   "execution_count": null,
   "id": "67503c1b",
   "metadata": {
    "scrolled": true
   },
   "outputs": [],
   "source": [
    "Matrix(eigv[:, np.argmax(eigh)])"
   ]
  },
  {
   "cell_type": "code",
   "execution_count": null,
   "id": "9cc697e8",
   "metadata": {
    "scrolled": true
   },
   "outputs": [],
   "source": [
    "Matrix(eigv[:, 2])"
   ]
  },
  {
   "cell_type": "markdown",
   "id": "b6900b87",
   "metadata": {},
   "source": [
    "Autovector 1 (este tiene el máximo valor)\n",
    "\n",
    "$$\\ket{\\Psi_1} = \\frac{1}{\\sqrt{2}} \n",
    "\\begin{pmatrix}\n",
    "0 \\\\\n",
    "-1\\\\\n",
    "1\\\\\n",
    "0\n",
    "\\end{pmatrix} = \\frac{1}{\\sqrt{2}} \\left(\n",
    "\\begin{pmatrix}\n",
    "0 \\\\\n",
    "-1\\\\\n",
    "0\\\\\n",
    "0\n",
    "\\end{pmatrix} + \\begin{pmatrix}\n",
    "0 \\\\\n",
    "0\\\\\n",
    "1\\\\\n",
    "0\n",
    "\\end{pmatrix} \\right) =\n",
    " \\frac{1}{\\sqrt{2}}  \\left( -\\ket{0}\\otimes\\ket{1} + \\ket{1}\\otimes\\ket{0} \\right)\n",
    "$$\n",
    "\n",
    "\n",
    "Auto Vector 2 (con autovalor 0)\n",
    "$$\\ket{\\Psi_2} = \n",
    "\\begin{pmatrix}\n",
    "1 \\\\\n",
    "0\\\\\n",
    "0\\\\\n",
    "0\n",
    "\\end{pmatrix}\n",
    "=\n",
    "\\ket{0}\\otimes\\ket{0}\n",
    "$$\n",
    "\n",
    "Auto Vector 3 (con autovalor 0)\n",
    "$$\\ket{\\Psi_3} = \n",
    "\\begin{pmatrix}\n",
    "0 \\\\\n",
    "0\\\\\n",
    "0\\\\\n",
    "1\n",
    "\\end{pmatrix}\n",
    "=\n",
    "\\ket{1}\\otimes\\ket{1}\n",
    "$$"
   ]
  },
  {
   "cell_type": "code",
   "execution_count": null,
   "id": "d5cb52a0",
   "metadata": {},
   "outputs": [],
   "source": [
    "print(\"Eg_qbit: {}\".format(gse))\n",
    "m_egs, m_eigh, m_eigv, m_h, m_gsd = t01_2.tight_bind_matlab(np.ones(1))\n",
    "print(\"Eg_Matlab: {}\".format(m_egs))"
   ]
  },
  {
   "cell_type": "markdown",
   "id": "f8497510",
   "metadata": {},
   "source": [
    "### L=3"
   ]
  },
  {
   "cell_type": "code",
   "execution_count": null,
   "id": "c96e6eff",
   "metadata": {
    "scrolled": true
   },
   "outputs": [],
   "source": [
    "L = 3\n",
    "t_l = [1 for i in range(L-1)]\n",
    "print(t_l)\n",
    "p_egs, p_eigh, p_eigv, p_h, p_gsd = t01_2.tbc_qbit_image(t_l)\n",
    "print(\"Eg_qbit: {}\".format(p_egs))\n",
    "m_egs, m_eigh, m_eigv, m_h, m_gsd = t01_2.tight_bind_matlab(np.ones(L-1))\n",
    "print(\"Eg_Matlab: {}\".format(m_egs))\n",
    "print(\"Ground State Degeneracy. Python: {}. Matlab: {}\".format(p_gsd, m_gsd))"
   ]
  },
  {
   "cell_type": "code",
   "execution_count": null,
   "id": "132d19be",
   "metadata": {},
   "outputs": [],
   "source": [
    "p_eigh"
   ]
  },
  {
   "cell_type": "code",
   "execution_count": null,
   "id": "5b2d3d56",
   "metadata": {
    "scrolled": false
   },
   "outputs": [],
   "source": [
    "Matrix(p_eigv[:, np.argmin(p_eigh)])"
   ]
  },
  {
   "cell_type": "code",
   "execution_count": null,
   "id": "7cbae294",
   "metadata": {
    "scrolled": false
   },
   "outputs": [],
   "source": [
    "Matrix(p_eigv[:, 4])"
   ]
  },
  {
   "cell_type": "markdown",
   "id": "dd4dcb56",
   "metadata": {},
   "source": [
    "El estado de mínima energía en nuestra imagen de qbits será:\n",
    "$$\n",
    "\\begin{pmatrix}\n",
    "0\\\\\n",
    "0\\\\\n",
    "0\\\\\n",
    "\\frac{1}{2}\\\\\n",
    "0\\\\\n",
    "\\frac{1}{\\sqrt{2}}\\\\\n",
    "\\frac{1}{2}\\\\\n",
    "0\\\\\n",
    "\\end{pmatrix} =\n",
    "\\frac{1}{2}\\ket{011} + \\frac{1}{\\sqrt{2}} \\ket{101} + \\frac{1}{2}\\ket{101}$$"
   ]
  },
  {
   "cell_type": "code",
   "execution_count": null,
   "id": "4aba625b",
   "metadata": {},
   "outputs": [],
   "source": [
    "Matrix(p_eigv[:, 4])"
   ]
  },
  {
   "cell_type": "code",
   "execution_count": null,
   "id": "8ad22fd3",
   "metadata": {},
   "outputs": [],
   "source": [
    "m_eigh"
   ]
  },
  {
   "cell_type": "code",
   "execution_count": null,
   "id": "4d44bccf",
   "metadata": {
    "scrolled": true
   },
   "outputs": [],
   "source": [
    "Matrix(m_eigv[:,0])"
   ]
  },
  {
   "cell_type": "code",
   "execution_count": null,
   "id": "1520721e",
   "metadata": {},
   "outputs": [],
   "source": [
    "Matrix(m_eigv[:,1])"
   ]
  },
  {
   "cell_type": "code",
   "execution_count": null,
   "id": "b5a04813",
   "metadata": {},
   "outputs": [],
   "source": [
    "Matrix(m_eigv[:,2])"
   ]
  },
  {
   "cell_type": "markdown",
   "id": "32c23fab",
   "metadata": {},
   "source": [
    "### L=4"
   ]
  },
  {
   "cell_type": "code",
   "execution_count": null,
   "id": "0cfaad24",
   "metadata": {
    "scrolled": true
   },
   "outputs": [],
   "source": [
    "L = 4\n",
    "t_l = [1 for i in range(L-1)]\n",
    "print(t_l)\n",
    "p_egs, p_eigh, p_eigv, p_h, p_gsd = t01_2.tbc_qbit_image(t_l)\n",
    "print(\"Eg_qbit: {}\".format(p_egs))\n",
    "m_egs, m_eigh, m_eigv, m_h, m_gsd = t01_2.tight_bind_matlab(np.ones(L-1))\n",
    "print(\"Eg_Matlab: {}\".format(m_egs))\n",
    "print(\"Ground State Degeneracy. Python: {}. Matlab: {}\".format(p_gsd, m_gsd))"
   ]
  },
  {
   "cell_type": "code",
   "execution_count": null,
   "id": "a842f88d",
   "metadata": {},
   "outputs": [],
   "source": [
    "m_eigh"
   ]
  },
  {
   "cell_type": "code",
   "execution_count": null,
   "id": "677a81b2",
   "metadata": {
    "scrolled": true
   },
   "outputs": [],
   "source": [
    "Matrix(m_eigv[:,0])"
   ]
  },
  {
   "cell_type": "code",
   "execution_count": null,
   "id": "7ccaf5a2",
   "metadata": {},
   "outputs": [],
   "source": [
    "Matrix(m_eigv[:,1])"
   ]
  },
  {
   "cell_type": "code",
   "execution_count": null,
   "id": "42897d3e",
   "metadata": {},
   "outputs": [],
   "source": [
    "Matrix(m_eigv[:,2])"
   ]
  },
  {
   "cell_type": "markdown",
   "id": "0aa191d8",
   "metadata": {},
   "source": [
    "### L=5"
   ]
  },
  {
   "cell_type": "code",
   "execution_count": null,
   "id": "c23e265d",
   "metadata": {
    "scrolled": true
   },
   "outputs": [],
   "source": [
    "L = 5\n",
    "t_l = [1 for i in range(L-1)]\n",
    "print(t_l)\n",
    "p_egs, p_eigh, p_eigv, p_h, p_gsd = t01_2.tbc_qbit_image(t_l)\n",
    "print(\"Eg_qbit: {}\".format(p_egs))\n",
    "m_egs, m_eigh, m_eigv, m_h, m_gsd = t01_2.tight_bind_matlab(np.ones(L-1))\n",
    "print(\"Eg_Matlab: {}\".format(m_egs))\n",
    "print(\"Ground State Degeneracy. Python: {}. Matlab: {}\".format(p_gsd, m_gsd))"
   ]
  },
  {
   "cell_type": "code",
   "execution_count": null,
   "id": "bba6cd0e",
   "metadata": {},
   "outputs": [],
   "source": [
    "eigh"
   ]
  },
  {
   "cell_type": "code",
   "execution_count": null,
   "id": "d2c7173e",
   "metadata": {},
   "outputs": [],
   "source": [
    "e_1p"
   ]
  },
  {
   "cell_type": "markdown",
   "id": "9575be4d",
   "metadata": {},
   "source": [
    "### L=6"
   ]
  },
  {
   "cell_type": "code",
   "execution_count": null,
   "id": "3076bcc2",
   "metadata": {
    "scrolled": true
   },
   "outputs": [],
   "source": [
    "L = 6\n",
    "t_l = [1 for i in range(L-1)]\n",
    "print(t_l)\n",
    "p_egs, p_eigh, p_eigv, p_h, p_gsd = t01_2.tbc_qbit_image(t_l)\n",
    "print(\"Eg_qbit: {}\".format(p_egs))\n",
    "m_egs, m_eigh, m_eigv, m_h, m_gsd = t01_2.tight_bind_matlab(np.ones(L-1))\n",
    "print(\"Eg_Matlab: {}\".format(m_egs))\n",
    "print(\"Ground State Degeneracy. Python: {}. Matlab: {}\".format(p_gsd, m_gsd))"
   ]
  },
  {
   "cell_type": "markdown",
   "id": "702b8f2f",
   "metadata": {},
   "source": [
    "### L=10"
   ]
  },
  {
   "cell_type": "code",
   "execution_count": null,
   "id": "65aaed67",
   "metadata": {
    "scrolled": true
   },
   "outputs": [],
   "source": [
    "L = 10\n",
    "t_l = [1 for i in range(L-1)]\n",
    "print(t_l)\n",
    "p_egs, p_eigh, p_eigv, p_h, p_gsd = t01_2.tbc_qbit_image(t_l)\n",
    "print(\"Eg_qbit: {}\".format(p_egs))\n",
    "m_egs, m_eigh, m_eigv, m_h, m_gsd = t01_2.tight_bind_matlab(np.ones(L-1))\n",
    "print(\"Eg_Matlab: {}\".format(m_egs))\n",
    "print(\"Ground State Degeneracy. Python: {}. Matlab: {}\".format(p_gsd, m_gsd))"
   ]
  },
  {
   "cell_type": "markdown",
   "id": "6d5c0ed8",
   "metadata": {},
   "source": [
    "### L=11"
   ]
  },
  {
   "cell_type": "code",
   "execution_count": null,
   "id": "e315d78d",
   "metadata": {
    "scrolled": true
   },
   "outputs": [],
   "source": [
    "L = 11\n",
    "t_l = [1 for i in range(L-1)]\n",
    "print(t_l)\n",
    "p_egs, p_eigh, p_eigv, p_h, p_gsd = t01_2.tbc_qbit_image(t_l)\n",
    "print(\"Eg_qbit: {}\".format(p_egs))\n",
    "m_egs, m_eigh, m_eigv, m_h, m_gsd = t01_2.tight_bind_matlab(np.ones(L-1))\n",
    "print(\"Eg_Matlab: {}\".format(m_egs))\n",
    "print(\"Ground State Degeneracy. Python: {}. Matlab: {}\".format(p_gsd, m_gsd))"
   ]
  },
  {
   "cell_type": "code",
   "execution_count": null,
   "id": "2b90e81c",
   "metadata": {},
   "outputs": [],
   "source": []
  }
 ],
 "metadata": {
  "kernelspec": {
   "display_name": "Python [conda env:pytorch]",
   "language": "python",
   "name": "conda-env-pytorch-py"
  },
  "language_info": {
   "codemirror_mode": {
    "name": "ipython",
    "version": 3
   },
   "file_extension": ".py",
   "mimetype": "text/x-python",
   "name": "python",
   "nbconvert_exporter": "python",
   "pygments_lexer": "ipython3",
   "version": "3.11.4"
  }
 },
 "nbformat": 4,
 "nbformat_minor": 5
}
