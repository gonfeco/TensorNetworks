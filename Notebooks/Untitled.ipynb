{
 "cells": [
  {
   "cell_type": "markdown",
   "id": "9ef3adf3",
   "metadata": {},
   "source": [
    "### Basics Imports"
   ]
  },
  {
   "cell_type": "code",
   "execution_count": null,
   "id": "61a310a3",
   "metadata": {
    "scrolled": true
   },
   "outputs": [],
   "source": [
    "import logging\n",
    "logging.basicConfig(\n",
    "    format='%(asctime)s-%(levelname)s: %(message)s',\n",
    "    datefmt='%m/%d/%Y %I:%M:%S %p',\n",
    "    level=logging.INFO\n",
    "    #level=logging.DEBUG\n",
    ")\n",
    "logger = logging.getLogger('__name__')\n",
    "import numpy as np\n",
    "import pandas as pd\n",
    "import sys"
   ]
  },
  {
   "cell_type": "markdown",
   "id": "da888594",
   "metadata": {},
   "source": [
    "### TensorNetworks imports"
   ]
  },
  {
   "cell_type": "code",
   "execution_count": null,
   "id": "643e4d67",
   "metadata": {},
   "outputs": [],
   "source": [
    "sys.path.append(\"../\")\n",
    "import tensornetworks as tn\n",
    "import tn_quantum_circuits as tnqc\n",
    "import gates as gt\n",
    "from tensornetworks import contract_indices"
   ]
  },
  {
   "cell_type": "markdown",
   "id": "358b792f",
   "metadata": {},
   "source": [
    "### Imports QLM"
   ]
  },
  {
   "cell_type": "code",
   "execution_count": null,
   "id": "9cc01fa7",
   "metadata": {},
   "outputs": [],
   "source": [
    "import qat.lang.AQASM as qlm\n",
    "from qat.qpus import PyLinalg\n",
    "qpu_p = PyLinalg()\n",
    "from qlm_stuff import proccess_qresults"
   ]
  },
  {
   "cell_type": "code",
   "execution_count": null,
   "id": "d5f2c91b",
   "metadata": {},
   "outputs": [],
   "source": [
    "def apply_2qubit_gates(qubits, gates):\n",
    "    \"\"\"\n",
    "    Executes product of tensor with a gate\n",
    "    -o-o-o-o-o-..o-o-\n",
    "     |   |   |     |\n",
    "    \"\"\"\n",
    "    new_qubits = [0 for i in qubits]\n",
    "    left = qubits[0]\n",
    "    for i in range(1, len(qubits)):\n",
    "        right = qubits[i]\n",
    "        gate = gates[i-1]\n",
    "        #new_qubits[i-1], left = phase_change(left, right, gate)\n",
    "        new_qubits[i-1], left = tnqc.apply_2qubit_gate(left, right, gate)\n",
    "\n",
    "    new_qubits[-1], new_qubits[0] = tnqc.apply_2qubit_gate(\n",
    "        left, new_qubits[0], gates[-1])\n",
    "     #new_qubits[-1], new_qubits[0] = phase_change(left, new_qubits[0], gates[-1])\n",
    "    return new_qubits"
   ]
  },
  {
   "cell_type": "code",
   "execution_count": null,
   "id": "3b8f4c23",
   "metadata": {},
   "outputs": [],
   "source": [
    "def get_angles(depth):\n",
    "    theta = np.pi/4.0\n",
    "    delta_theta = theta / (depth + 1)\n",
    "    angles = []\n",
    "    for i in range(depth):\n",
    "        angles.append([(2 * i + 1) * delta_theta, (2 * i + 2) * delta_theta])\n",
    "    return angles     "
   ]
  },
  {
   "cell_type": "code",
   "execution_count": null,
   "id": "bfec2a6d",
   "metadata": {},
   "outputs": [],
   "source": [
    "get_angles(4)"
   ]
  },
  {
   "cell_type": "code",
   "execution_count": null,
   "id": "b3221f9f",
   "metadata": {},
   "outputs": [],
   "source": [
    "def ansatz(nqubits, depth, angles):\n",
    "    # Intitial State\n",
    "    zeroket = np.zeros((1, 2, 1))\n",
    "    zeroket[0][0][0] = 1\n",
    "    zeroket = zeroket.astype(complex)\n",
    "    #Initial State\n",
    "    mps_ = [zeroket] * nqubits\n",
    "    for depth_ in range(depth):\n",
    "        # First Layer\n",
    "        gates = [gt.x_rotation(angles[depth_][0]) for i in mps_]\n",
    "        mps_ = tnqc.apply_local_gate(mps_, gates)\n",
    "        ent_gates = [gt.controlz() for i in mps_]\n",
    "        mps_ = apply_2qubit_gates(mps_, ent_gates)\n",
    "        gates = [gt.z_rotation(angles[depth_][1]) for i in mps_]\n",
    "        mps_ = tnqc.apply_local_gate(mps_, gates)\n",
    "    return mps_"
   ]
  },
  {
   "cell_type": "code",
   "execution_count": null,
   "id": "3c226c27",
   "metadata": {},
   "outputs": [],
   "source": [
    "def ansatz_qlm(nqubits, depth, angles):\n",
    "    qprog = qlm.Program()\n",
    "    qbits = qprog.qalloc(nqubits)\n",
    "    for d_ in range(0, depth):\n",
    "        for i in range(nqubits):\n",
    "            qprog.apply(qlm.RX(angles[d_][0]), qbits[i])\n",
    "        for i in range(nqubits-1):\n",
    "            qprog.apply(qlm.Z.ctrl(), qbits[i], qbits[i+1])    \n",
    "        qprog.apply(qlm.Z.ctrl(), qbits[nqubits-1], qbits[0])\n",
    "        for i in range(nqubits):\n",
    "            qprog.apply(qlm.RZ(angles[d_][1]), qbits[i])    \n",
    "    circ = qprog.to_circ()\n",
    "    #%qatdisplay circ\n",
    "    job = circ.to_job()\n",
    "    state = qpu_p.submit(job)\n",
    "    pdf = proccess_qresults(state, nqubits)\n",
    "    pdf.reset_index(drop=True, inplace=True)\n",
    "    return pdf, circ  "
   ]
  },
  {
   "cell_type": "code",
   "execution_count": null,
   "id": "24698138",
   "metadata": {},
   "outputs": [],
   "source": [
    "depth = 3\n",
    "nqubits = 4 \n",
    "mps = ansatz(nqubits, depth, get_angles(depth))\n",
    "pdf_zalo = tnqc.get_state_from_mps(mps)"
   ]
  },
  {
   "cell_type": "code",
   "execution_count": null,
   "id": "a4b10997",
   "metadata": {},
   "outputs": [],
   "source": [
    "pdf, c= ansatz_qlm(nqubits, depth,  get_angles(depth))"
   ]
  },
  {
   "cell_type": "code",
   "execution_count": null,
   "id": "31906f70",
   "metadata": {},
   "outputs": [],
   "source": [
    "%qatdisplay c --svg"
   ]
  },
  {
   "cell_type": "code",
   "execution_count": null,
   "id": "e53b3ccc",
   "metadata": {},
   "outputs": [],
   "source": [
    "np.isclose(pdf[\"Amplitude\"], pdf_zalo[\"Amplitude\"]).all()"
   ]
  },
  {
   "cell_type": "code",
   "execution_count": null,
   "id": "1e944f54",
   "metadata": {},
   "outputs": [],
   "source": [
    "[mps_.shape for mps_ in mps]"
   ]
  },
  {
   "cell_type": "markdown",
   "id": "29a58d66",
   "metadata": {},
   "source": [
    "### Testing  Isometry"
   ]
  },
  {
   "cell_type": "code",
   "execution_count": null,
   "id": "8d9bd345",
   "metadata": {},
   "outputs": [],
   "source": [
    "# Identitidad: U.T @ U\n",
    "tensor = mps[3]\n",
    "iso = tn.contract_indices(tensor, tensor.conj(), [0, 1], [0, 1])\n",
    "np.isclose(iso, np.eye(iso.shape[0])).all()"
   ]
  },
  {
   "cell_type": "code",
   "execution_count": null,
   "id": "bc06cd3a",
   "metadata": {},
   "outputs": [],
   "source": [
    "#Proyector U @U.T\n",
    "tensor = mps[3]\n",
    "iso = tn.contract_indices(tensor, tensor.conj(), [2], [2])\n",
    "projector = iso.reshape(np.product(iso.shape[:2]), np.product(iso.shape[:2]))\n",
    "np.isclose(projector @ projector, projector).all()"
   ]
  },
  {
   "cell_type": "code",
   "execution_count": null,
   "id": "00d2a3e5",
   "metadata": {},
   "outputs": [],
   "source": [
    "# Identitidad: U.T @ U\n",
    "tensor = mps[0]\n",
    "iso = tn.contract_indices(tensor, tensor.conj(), [1, 2], [1, 2])\n",
    "np.isclose(iso, np.eye(iso.shape[0])).all()"
   ]
  },
  {
   "cell_type": "markdown",
   "id": "a0baecf7",
   "metadata": {},
   "source": [
    "## Computing density matrices"
   ]
  },
  {
   "cell_type": "code",
   "execution_count": null,
   "id": "5fa29684",
   "metadata": {},
   "outputs": [],
   "source": [
    "[mps_.shape for mps_ in mps]"
   ]
  },
  {
   "cell_type": "code",
   "execution_count": null,
   "id": "b11b96f6",
   "metadata": {},
   "outputs": [],
   "source": [
    "amp = np.array(pdf_zalo[\"Amplitude\"])\n",
    "amp = amp.reshape(amp.shape[0], 1)\n",
    "rho0 = amp @ amp.conj().T"
   ]
  },
  {
   "cell_type": "code",
   "execution_count": null,
   "id": "3dcab88a",
   "metadata": {},
   "outputs": [],
   "source": [
    "# Computing Density Matrix\n",
    "amp = np.array(pdf_zalo[\"Amplitude\"])\n",
    "amp = amp.reshape(tuple([2 for i in range(nqubits)]))\n",
    "rho1 = tn.reduced_matrix(amp, [0, 1, 2, 3], [])"
   ]
  },
  {
   "cell_type": "code",
   "execution_count": null,
   "id": "f3da715e",
   "metadata": {
    "scrolled": true
   },
   "outputs": [],
   "source": [
    "np.isclose(rho0, rho1).all()"
   ]
  },
  {
   "cell_type": "code",
   "execution_count": null,
   "id": "79a35e0f",
   "metadata": {},
   "outputs": [],
   "source": [
    "amp.shape"
   ]
  },
  {
   "cell_type": "code",
   "execution_count": null,
   "id": "4b00bdfb",
   "metadata": {},
   "outputs": [],
   "source": [
    "import copy"
   ]
  },
  {
   "cell_type": "code",
   "execution_count": null,
   "id": "ad42b68b",
   "metadata": {},
   "outputs": [],
   "source": [
    "def compose_from_right(mps_):\n",
    "    mps = copy.deepcopy(mps_)\n",
    "    mps.reverse()\n",
    "    tensor = mps[0]\n",
    "    tensor_out = contract_indices(tensor, tensor.conj(), [1, 2], [1, 2])\n",
    "    for tensor in mps[1:]:\n",
    "        tensor_out = contract_indices(tensor, tensor_out, [2], [0])\n",
    "        tensor_out = contract_indices(tensor_out, tensor.conj(), [1, 2], [1, 2])\n",
    "    return tensor_out\n",
    "def opa(mps):\n",
    "    tensor = mps[0]\n",
    "    tensor_out = contract_indices(tensor, tensor.conj(), [0], [0])\n",
    "    print(tensor_out.shape, tensor.shape)\n",
    "    first_leg = 1\n",
    "    for tensor in mps[1:]:\n",
    "        print(tensor_out.shape, tensor.shape, first_leg)\n",
    "        tensor_out = contract_indices(tensor_out, tensor, [first_leg], [0])\n",
    "        first_leg = first_leg + 1\n",
    "        print(tensor_out.shape, tensor.shape, tensor_out.ndim-1)\n",
    "        tensor_out = contract_indices(tensor_out, tensor.conj(), [tensor_out.ndim-1], [0])\n",
    "    return tensor_out, first_leg        "
   ]
  },
  {
   "cell_type": "code",
   "execution_count": null,
   "id": "df680b29",
   "metadata": {},
   "outputs": [],
   "source": [
    "traced_out = compose_from_right(mps[2:])"
   ]
  },
  {
   "cell_type": "code",
   "execution_count": null,
   "id": "6fec21e3",
   "metadata": {},
   "outputs": [],
   "source": [
    "traced_out.shape"
   ]
  },
  {
   "cell_type": "code",
   "execution_count": null,
   "id": "972cc652",
   "metadata": {},
   "outputs": [],
   "source": [
    "len(mps)"
   ]
  },
  {
   "cell_type": "code",
   "execution_count": null,
   "id": "3854a4b5",
   "metadata": {},
   "outputs": [],
   "source": [
    "len(mps[2:])"
   ]
  },
  {
   "cell_type": "code",
   "execution_count": null,
   "id": "a51a5b49",
   "metadata": {},
   "outputs": [],
   "source": [
    "len(mps[0:2])"
   ]
  },
  {
   "cell_type": "code",
   "execution_count": null,
   "id": "178675dc",
   "metadata": {},
   "outputs": [],
   "source": [
    "non_traced_out, leg = opa(mps[0:2])"
   ]
  },
  {
   "cell_type": "code",
   "execution_count": null,
   "id": "09cdf347",
   "metadata": {},
   "outputs": [],
   "source": [
    "non_traced_out.shape"
   ]
  },
  {
   "cell_type": "code",
   "execution_count": null,
   "id": "4d96aee5",
   "metadata": {},
   "outputs": [],
   "source": [
    "leg"
   ]
  },
  {
   "cell_type": "code",
   "execution_count": null,
   "id": "a4baf01a",
   "metadata": {},
   "outputs": [],
   "source": [
    "contract_indices(non_traced_out, traced_out, [leg, non_traced_out.ndim-1], [0, 1])"
   ]
  },
  {
   "cell_type": "code",
   "execution_count": null,
   "id": "54ac64f6",
   "metadata": {},
   "outputs": [],
   "source": [
    "tn.reduced_matrix(amp, [0], [1, 2, 3])"
   ]
  },
  {
   "cell_type": "code",
   "execution_count": null,
   "id": "c38d2f3b",
   "metadata": {},
   "outputs": [],
   "source": [
    "tn.reduced_matrix?"
   ]
  },
  {
   "cell_type": "code",
   "execution_count": null,
   "id": "0a003451",
   "metadata": {},
   "outputs": [],
   "source": []
  },
  {
   "cell_type": "code",
   "execution_count": null,
   "id": "6b9b2113",
   "metadata": {},
   "outputs": [],
   "source": [
    "contract_indices(non_traced_out, traced_out, [leg, non_traced_out.ndim-1], [0, 1]) / tn.reduced_matrix(amp, [0], [1, 2, 3])"
   ]
  },
  {
   "cell_type": "code",
   "execution_count": null,
   "id": "5b35c248",
   "metadata": {},
   "outputs": [],
   "source": [
    "traced_out.shape"
   ]
  },
  {
   "cell_type": "code",
   "execution_count": null,
   "id": "ce052b6c",
   "metadata": {},
   "outputs": [],
   "source": []
  },
  {
   "cell_type": "code",
   "execution_count": null,
   "id": "bfe5cf32",
   "metadata": {},
   "outputs": [],
   "source": []
  },
  {
   "cell_type": "code",
   "execution_count": null,
   "id": "16a9ffc4",
   "metadata": {},
   "outputs": [],
   "source": [
    "a = compose_from_right(mps)"
   ]
  },
  {
   "cell_type": "code",
   "execution_count": null,
   "id": "eeceef40",
   "metadata": {},
   "outputs": [],
   "source": [
    "rho_t = tnqc.compose_mps(mps)\n",
    "rho_t = contract_indices(rho_t, rho_t.conj(), [], [])\n",
    "rho_t= rho_t.reshape(np.prod(rho_t.shape[:rho_t.ndim//2]), -1)"
   ]
  },
  {
   "cell_type": "code",
   "execution_count": null,
   "id": "49a8362c",
   "metadata": {},
   "outputs": [],
   "source": [
    "np.isclose(rho0, rho_t).all()"
   ]
  },
  {
   "cell_type": "code",
   "execution_count": null,
   "id": "17de0ce1",
   "metadata": {},
   "outputs": [],
   "source": []
  },
  {
   "cell_type": "code",
   "execution_count": null,
   "id": "fa30711a",
   "metadata": {},
   "outputs": [],
   "source": []
  },
  {
   "cell_type": "code",
   "execution_count": null,
   "id": "8be7a655",
   "metadata": {},
   "outputs": [],
   "source": []
  },
  {
   "cell_type": "code",
   "execution_count": null,
   "id": "131b6376",
   "metadata": {},
   "outputs": [],
   "source": [
    "rho_t.shape"
   ]
  },
  {
   "cell_type": "code",
   "execution_count": null,
   "id": "488d5e60",
   "metadata": {},
   "outputs": [],
   "source": []
  },
  {
   "cell_type": "code",
   "execution_count": null,
   "id": "2d59434b",
   "metadata": {
    "scrolled": true
   },
   "outputs": [],
   "source": [
    "[mps_.shape for mps_ in mps]"
   ]
  },
  {
   "cell_type": "code",
   "execution_count": null,
   "id": "a37d92e3",
   "metadata": {
    "scrolled": true
   },
   "outputs": [],
   "source": [
    "a"
   ]
  },
  {
   "cell_type": "code",
   "execution_count": null,
   "id": "ea71fd56",
   "metadata": {},
   "outputs": [],
   "source": [
    "rho0"
   ]
  },
  {
   "cell_type": "code",
   "execution_count": null,
   "id": "99fc6b2b",
   "metadata": {},
   "outputs": [],
   "source": []
  },
  {
   "cell_type": "code",
   "execution_count": null,
   "id": "dd512002",
   "metadata": {},
   "outputs": [],
   "source": [
    "contract_indices(amp, amp.conj(), )"
   ]
  },
  {
   "cell_type": "code",
   "execution_count": null,
   "id": "f26d0e9f",
   "metadata": {
    "scrolled": true
   },
   "outputs": [],
   "source": [
    "non_contracted = 1\n",
    "tensor = mps[:non_contracted]\n",
    "b = tnqc.compose_mps(mps[non_contracted:], False)"
   ]
  },
  {
   "cell_type": "code",
   "execution_count": null,
   "id": "21f86e91",
   "metadata": {},
   "outputs": [],
   "source": [
    "b.shape"
   ]
  },
  {
   "cell_type": "code",
   "execution_count": null,
   "id": "6d100d95",
   "metadata": {},
   "outputs": [],
   "source": [
    "[t.shape for t in tensor]"
   ]
  },
  {
   "cell_type": "code",
   "execution_count": null,
   "id": "49973ab9",
   "metadata": {},
   "outputs": [],
   "source": [
    "contract_indices(b)"
   ]
  },
  {
   "cell_type": "code",
   "execution_count": null,
   "id": "336f845f",
   "metadata": {},
   "outputs": [],
   "source": [
    "b.shape"
   ]
  },
  {
   "cell_type": "code",
   "execution_count": null,
   "id": "a0b60a46",
   "metadata": {
    "scrolled": false
   },
   "outputs": [],
   "source": []
  },
  {
   "cell_type": "code",
   "execution_count": null,
   "id": "ffbcbf7e",
   "metadata": {},
   "outputs": [],
   "source": [
    "np.isclose(a.reshape(2**4, 2**4), rho0).all()"
   ]
  },
  {
   "cell_type": "code",
   "execution_count": null,
   "id": "a236c6e5",
   "metadata": {
    "scrolled": true
   },
   "outputs": [],
   "source": [
    "forrho = [mps[0]]a\n",
    "b = tnqc.compose_mps(forrho)\n",
    "a = contract_indices(np.conj(mps[0]),mps[0],  [0, 2], [0, 2])"
   ]
  },
  {
   "cell_type": "code",
   "execution_count": null,
   "id": "75688b39",
   "metadata": {},
   "outputs": [],
   "source": [
    "a"
   ]
  },
  {
   "cell_type": "code",
   "execution_count": null,
   "id": "0c7157e7",
   "metadata": {},
   "outputs": [],
   "source": [
    "mps[0].shape"
   ]
  },
  {
   "cell_type": "code",
   "execution_count": null,
   "id": "533903d2",
   "metadata": {},
   "outputs": [],
   "source": [
    "tn.reduced_matrix(amp, [0], [1, 2, 3])"
   ]
  },
  {
   "cell_type": "code",
   "execution_count": null,
   "id": "cde5fc55",
   "metadata": {},
   "outputs": [],
   "source": [
    "len(forrho)"
   ]
  },
  {
   "cell_type": "code",
   "execution_count": null,
   "id": "3a53f185",
   "metadata": {},
   "outputs": [],
   "source": []
  },
  {
   "cell_type": "code",
   "execution_count": null,
   "id": "015bb11f",
   "metadata": {},
   "outputs": [],
   "source": []
  },
  {
   "cell_type": "code",
   "execution_count": null,
   "id": "527391de",
   "metadata": {},
   "outputs": [],
   "source": []
  },
  {
   "cell_type": "code",
   "execution_count": null,
   "id": "c7711ed3",
   "metadata": {},
   "outputs": [],
   "source": [
    "contract_indices?"
   ]
  },
  {
   "cell_type": "code",
   "execution_count": null,
   "id": "aa58fc33",
   "metadata": {},
   "outputs": [],
   "source": [
    "pdf_zalo[\"Amplitude\"]"
   ]
  },
  {
   "cell_type": "code",
   "execution_count": null,
   "id": "29426b58",
   "metadata": {},
   "outputs": [],
   "source": [
    "a = tn.compose_mps(mps)"
   ]
  },
  {
   "cell_type": "code",
   "execution_count": null,
   "id": "5795ba50",
   "metadata": {},
   "outputs": [],
   "source": [
    "b = a.reshape(np.prod(a.shape))"
   ]
  },
  {
   "cell_type": "code",
   "execution_count": null,
   "id": "b1c00cba",
   "metadata": {},
   "outputs": [],
   "source": [
    "b"
   ]
  },
  {
   "cell_type": "code",
   "execution_count": null,
   "id": "d6eb5b3d",
   "metadata": {},
   "outputs": [],
   "source": [
    "a = a.reshape(a.shape[0], -1, a.shape[-1])"
   ]
  },
  {
   "cell_type": "code",
   "execution_count": null,
   "id": "551d75f7",
   "metadata": {},
   "outputs": [],
   "source": [
    "a.shape"
   ]
  },
  {
   "cell_type": "code",
   "execution_count": null,
   "id": "add71751",
   "metadata": {},
   "outputs": [],
   "source": [
    "a.shape"
   ]
  },
  {
   "cell_type": "code",
   "execution_count": null,
   "id": "b8ef7d53",
   "metadata": {},
   "outputs": [],
   "source": [
    "opa = contract_indices(a.conj(), a,  [0, 2], [0, 2])"
   ]
  },
  {
   "cell_type": "code",
   "execution_count": null,
   "id": "0390d5be",
   "metadata": {},
   "outputs": [],
   "source": [
    "opa"
   ]
  },
  {
   "cell_type": "code",
   "execution_count": null,
   "id": "8e731288",
   "metadata": {},
   "outputs": [],
   "source": [
    "rho1"
   ]
  },
  {
   "cell_type": "code",
   "execution_count": null,
   "id": "5f67f1e4",
   "metadata": {},
   "outputs": [],
   "source": []
  },
  {
   "cell_type": "code",
   "execution_count": null,
   "id": "9c2ee165",
   "metadata": {},
   "outputs": [],
   "source": [
    "amp.shape"
   ]
  },
  {
   "cell_type": "code",
   "execution_count": null,
   "id": "acae60de",
   "metadata": {},
   "outputs": [],
   "source": [
    "a = tn.compose_mps(mps)"
   ]
  },
  {
   "cell_type": "code",
   "execution_count": null,
   "id": "3fab5b8c",
   "metadata": {},
   "outputs": [],
   "source": [
    "a.ndim"
   ]
  },
  {
   "cell_type": "code",
   "execution_count": null,
   "id": "42e6c7be",
   "metadata": {},
   "outputs": [],
   "source": [
    "mps"
   ]
  },
  {
   "cell_type": "code",
   "execution_count": null,
   "id": "a80051ae",
   "metadata": {},
   "outputs": [],
   "source": []
  },
  {
   "cell_type": "code",
   "execution_count": null,
   "id": "36a44185",
   "metadata": {},
   "outputs": [],
   "source": [
    "non_contracted = 1\n",
    "tensor = mps[:non_contracted]\n",
    "b = compose_from_right(mps[non_contracted:])"
   ]
  },
  {
   "cell_type": "code",
   "execution_count": null,
   "id": "b369bcb3",
   "metadata": {},
   "outputs": [],
   "source": [
    "b.shape"
   ]
  },
  {
   "cell_type": "code",
   "execution_count": null,
   "id": "690971ae",
   "metadata": {},
   "outputs": [],
   "source": [
    "c = opa(tensor)"
   ]
  },
  {
   "cell_type": "code",
   "execution_count": null,
   "id": "57266f3c",
   "metadata": {},
   "outputs": [],
   "source": [
    "contract_indices(c, b, [1, 3], [0, 1])"
   ]
  },
  {
   "cell_type": "code",
   "execution_count": null,
   "id": "0d888b33",
   "metadata": {},
   "outputs": [],
   "source": [
    "# Computing Density Matrix\n",
    "amp = np.array(pdf_zalo[\"Amplitude\"])\n",
    "amp = amp.reshape(tuple([2 for i in range(nqubits)]))\n",
    "rho1 = tn.reduced_matrix(amp, [0], [1, 2, 3])"
   ]
  },
  {
   "cell_type": "code",
   "execution_count": null,
   "id": "ca0c96c8",
   "metadata": {},
   "outputs": [],
   "source": [
    "rho1"
   ]
  },
  {
   "cell_type": "code",
   "execution_count": null,
   "id": "0c14b9f2",
   "metadata": {},
   "outputs": [],
   "source": [
    "c.shape"
   ]
  },
  {
   "cell_type": "code",
   "execution_count": null,
   "id": "253de450",
   "metadata": {},
   "outputs": [],
   "source": [
    "def density_matrix(mps):\n",
    "    tensor = mps[0]\n",
    "    tensor_out = contract_indices(tensor, tensor.conj(), [0], [0])\n",
    "    for tensor in mps[1:-1]:\n",
    "        print(tensor_out.shape)\n",
    "        print(tensor.shape)\n",
    "        print(tensor_out.ndim)\n",
    "        tensor_out = contract_indices(tensor, tensor_out, [0], [1])\n",
    "        tensor_out = contract_indices(tensor_out, tensor.conj(), [tensor_out.ndim-1], [0])\n",
    "    tensor = mps[-1]\n",
    "    tensor_out = contract_indices(tensor, tensor_out, [0], [1])\n",
    "    tensor_out = contract_indices(tensor_out, tensor.conj(), [tensor_out.ndim-1, 1], [0, 2])\n",
    "    return tensor_out\n",
    "        \n",
    "        \n",
    "    "
   ]
  },
  {
   "cell_type": "code",
   "execution_count": null,
   "id": "28690896",
   "metadata": {},
   "outputs": [],
   "source": [
    "opa = density_matrix(mps)"
   ]
  },
  {
   "cell_type": "code",
   "execution_count": null,
   "id": "562c9106",
   "metadata": {},
   "outputs": [],
   "source": [
    "rho_mps = opa.reshape(2**(opa.ndim //2), 2**(opa.ndim //2))"
   ]
  },
  {
   "cell_type": "code",
   "execution_count": null,
   "id": "bf481f9a",
   "metadata": {},
   "outputs": [],
   "source": [
    "rho_mps"
   ]
  },
  {
   "cell_type": "code",
   "execution_count": null,
   "id": "34e1047e",
   "metadata": {},
   "outputs": [],
   "source": [
    "rho0"
   ]
  },
  {
   "cell_type": "code",
   "execution_count": null,
   "id": "5125c906",
   "metadata": {},
   "outputs": [],
   "source": []
  },
  {
   "cell_type": "code",
   "execution_count": null,
   "id": "c7af5efb",
   "metadata": {},
   "outputs": [],
   "source": []
  },
  {
   "cell_type": "code",
   "execution_count": null,
   "id": "7ba40c7f",
   "metadata": {
    "scrolled": true
   },
   "outputs": [],
   "source": [
    "np.isclose(rho0, rho_mps)"
   ]
  },
  {
   "cell_type": "code",
   "execution_count": null,
   "id": "3efc8702",
   "metadata": {},
   "outputs": [],
   "source": []
  },
  {
   "cell_type": "code",
   "execution_count": null,
   "id": "39cc73ef",
   "metadata": {},
   "outputs": [],
   "source": []
  },
  {
   "cell_type": "code",
   "execution_count": null,
   "id": "37bd6429",
   "metadata": {},
   "outputs": [],
   "source": []
  },
  {
   "cell_type": "code",
   "execution_count": null,
   "id": "281119c0",
   "metadata": {},
   "outputs": [],
   "source": []
  },
  {
   "cell_type": "code",
   "execution_count": null,
   "id": "90dcb018",
   "metadata": {},
   "outputs": [],
   "source": [
    "opa.ndim /2"
   ]
  },
  {
   "cell_type": "code",
   "execution_count": null,
   "id": "e9d6cab2",
   "metadata": {},
   "outputs": [],
   "source": [
    "opa.size"
   ]
  },
  {
   "cell_type": "code",
   "execution_count": null,
   "id": "9b66d59d",
   "metadata": {},
   "outputs": [],
   "source": []
  }
 ],
 "metadata": {
  "kernelspec": {
   "display_name": "Python [conda env:myqlm]",
   "language": "python",
   "name": "conda-env-myqlm-py"
  },
  "language_info": {
   "codemirror_mode": {
    "name": "ipython",
    "version": 3
   },
   "file_extension": ".py",
   "mimetype": "text/x-python",
   "name": "python",
   "nbconvert_exporter": "python",
   "pygments_lexer": "ipython3",
   "version": "3.9.18"
  }
 },
 "nbformat": 4,
 "nbformat_minor": 5
}
