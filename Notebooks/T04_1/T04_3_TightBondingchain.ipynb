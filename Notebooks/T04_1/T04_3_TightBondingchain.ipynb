{
 "cells": [
  {
   "cell_type": "markdown",
   "id": "71783a88",
   "metadata": {},
   "source": [
    "## Bra and Ket Definitions\n",
    "\n",
    "$$\\newcommand{\\braket}[2]{\\left\\langle{#1}\\middle|{#2}\\right\\rangle}$$\n",
    "$$\\newcommand{\\ket}[1]{\\left|{#1}\\right\\rangle}$$\n",
    "$$\\newcommand{\\bra}[1]{\\left\\langle{#1}\\right|}$$"
   ]
  },
  {
   "cell_type": "markdown",
   "id": "454d39a2",
   "metadata": {},
   "source": [
    "# Tight Bonding Chain\n",
    "\n",
    "Para el Hamiltoniano the un tight bond chain vamos a usar el zipper para resolverlo!!\n",
    "\n",
    "$$H = \\sum_{l=1}^{L-1} \\left( -t_l * c^{\\dagger}_{l+1} c_l - t_l^{*} c^{\\dagger}_l c_{l+1}\\right)$$"
   ]
  },
  {
   "cell_type": "code",
   "execution_count": null,
   "id": "b2401cff",
   "metadata": {},
   "outputs": [],
   "source": [
    "import numpy as np\n",
    "import sys\n",
    "sys.path.append('../../')\n",
    "from tensornetworks import zipper"
   ]
  },
  {
   "cell_type": "code",
   "execution_count": null,
   "id": "6a262609",
   "metadata": {},
   "outputs": [],
   "source": [
    "c_plus = np.zeros((2,2))\n",
    "c_plus[1,0] = 1\n",
    "c_plus = c_plus.reshape((2, 2, 1))\n",
    "c_less = c_plus.transpose(1, 0, 2)"
   ]
  },
  {
   "cell_type": "code",
   "execution_count": null,
   "id": "f1205f16",
   "metadata": {},
   "outputs": [],
   "source": [
    "Z = np.identity(2)\n",
    "Z[1,1] = -1"
   ]
  },
  {
   "cell_type": "code",
   "execution_count": null,
   "id": "813bf69d",
   "metadata": {},
   "outputs": [],
   "source": [
    "c_plus[:, :, 0]"
   ]
  },
  {
   "cell_type": "code",
   "execution_count": null,
   "id": "2828e4eb",
   "metadata": {},
   "outputs": [],
   "source": [
    "c_less[:,:,0]"
   ]
  },
  {
   "cell_type": "code",
   "execution_count": null,
   "id": "1d05d53d",
   "metadata": {},
   "outputs": [],
   "source": [
    "N = 11"
   ]
  },
  {
   "cell_type": "code",
   "execution_count": null,
   "id": "a89ae1f5",
   "metadata": {},
   "outputs": [],
   "source": [
    "#t = [1] * (N-1)\n",
    "t = [np.exp(1j*l) for l in range(N-1)]"
   ]
  },
  {
   "cell_type": "code",
   "execution_count": null,
   "id": "c156ad73",
   "metadata": {},
   "outputs": [],
   "source": [
    "suma = 0\n",
    "for l, v in enumerate(t):\n",
    "    #print(l, v)\n",
    "    step = [np.identity(2) for i in range(N)]\n",
    "    step[l] = c_less\n",
    "    step[l+1] = c_plus\n",
    "    suma = suma -  v * zipper(step)"
   ]
  },
  {
   "cell_type": "code",
   "execution_count": null,
   "id": "b16796fe",
   "metadata": {},
   "outputs": [],
   "source": [
    "suma2 = 0\n",
    "for l, v in enumerate(t):\n",
    "    #print(l, v)\n",
    "    step = [np.identity(2) for i in range(N)]\n",
    "    step[l] = c_plus\n",
    "    step[l+1] = c_less\n",
    "    suma2 = suma2 -  np.conjugate(v) * zipper(step)"
   ]
  },
  {
   "cell_type": "code",
   "execution_count": null,
   "id": "10acaa15",
   "metadata": {},
   "outputs": [],
   "source": [
    "e_g = np.linalg.eigvals(suma + suma2)"
   ]
  },
  {
   "cell_type": "code",
   "execution_count": null,
   "id": "42e028b0",
   "metadata": {},
   "outputs": [],
   "source": [
    "e_g = np.real(e_g)"
   ]
  },
  {
   "cell_type": "code",
   "execution_count": null,
   "id": "432dcbe8",
   "metadata": {},
   "outputs": [],
   "source": [
    "degeneracy = np.isclose(min(e_g), e_g).sum()"
   ]
  },
  {
   "cell_type": "code",
   "execution_count": null,
   "id": "518638b9",
   "metadata": {},
   "outputs": [],
   "source": [
    "print(\"Ground State Energy: {}\".format(min(e_g)))\n",
    "print(\"Ground State Degeneracy: {}\".format(degeneracy))"
   ]
  },
  {
   "cell_type": "code",
   "execution_count": null,
   "id": "ce5d3d42",
   "metadata": {},
   "outputs": [],
   "source": [
    "v, d = np.linalg.eig(suma + suma2)"
   ]
  },
  {
   "cell_type": "code",
   "execution_count": null,
   "id": "5a7d61ec",
   "metadata": {},
   "outputs": [],
   "source": [
    "idx = v.argsort()[::-1]   \n",
    "eigenValues = v[idx]\n",
    "eigenVectors = d[:,idx]"
   ]
  },
  {
   "cell_type": "code",
   "execution_count": null,
   "id": "5282469c",
   "metadata": {},
   "outputs": [],
   "source": [
    "eigenValues"
   ]
  },
  {
   "cell_type": "code",
   "execution_count": null,
   "id": "de74fd7b",
   "metadata": {},
   "outputs": [],
   "source": [
    "len(eigenValues)"
   ]
  },
  {
   "cell_type": "code",
   "execution_count": null,
   "id": "96209879",
   "metadata": {},
   "outputs": [],
   "source": [
    "d.shape"
   ]
  },
  {
   "cell_type": "code",
   "execution_count": null,
   "id": "d97a0a4d",
   "metadata": {
    "scrolled": true
   },
   "outputs": [],
   "source": [
    "a = np.diag(v)"
   ]
  },
  {
   "cell_type": "code",
   "execution_count": null,
   "id": "ae95c48c",
   "metadata": {},
   "outputs": [],
   "source": []
  }
 ],
 "metadata": {
  "kernelspec": {
   "display_name": "Python [conda env:pytorch]",
   "language": "python",
   "name": "conda-env-pytorch-py"
  },
  "language_info": {
   "codemirror_mode": {
    "name": "ipython",
    "version": 3
   },
   "file_extension": ".py",
   "mimetype": "text/x-python",
   "name": "python",
   "nbconvert_exporter": "python",
   "pygments_lexer": "ipython3",
   "version": "3.11.4"
  }
 },
 "nbformat": 4,
 "nbformat_minor": 5
}
